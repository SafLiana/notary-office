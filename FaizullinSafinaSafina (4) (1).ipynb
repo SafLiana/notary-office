{
 "cells": [
  {
   "cell_type": "markdown",
   "id": "f6bba0cc",
   "metadata": {},
   "source": [
    "# Выявление случаев мошенничества с кредитными картами\n"
   ]
  },
  {
   "cell_type": "markdown",
   "id": "e093117b",
   "metadata": {},
   "source": [
    "## Содержание "
   ]
  },
  {
   "cell_type": "markdown",
   "id": "53c19722",
   "metadata": {},
   "source": [
    "В этом проекте используется Credit Card Fraud Detection Dataset 2013. Набор данных, содержащий информацию о транзакциях по кредитным картам, совершённых европейскими держателями карт в сентябре 2013 года.\n",
    "\n",
    "Представлены транзакции, которые произошли за два дня. \n",
    "492 мошенничества из 284 807 транзакций. \n",
    "\n",
    "Набор данных сильно несбалансирован."
   ]
  },
  {
   "cell_type": "markdown",
   "id": "1536da29",
   "metadata": {},
   "source": [
    "## Исходные данные"
   ]
  },
  {
   "cell_type": "markdown",
   "id": "5cb23cec",
   "metadata": {},
   "source": [
    "Набор данных содержит только числовые переменные.\n",
    "\n",
    "Из-за проблем с конфиденциальностью и соблюдения этических норм не были предоставлены исходные данные и дополнительную справочная информация о них."
   ]
  },
  {
   "cell_type": "markdown",
   "id": "032587df",
   "metadata": {},
   "source": [
    "## Цель\n"
   ]
  },
  {
   "cell_type": "markdown",
   "id": "cdfab36d",
   "metadata": {},
   "source": [
    "- Выполнить исследовательский анализ данных с помощью методов обработки данных в Python/Jupyter Notebook\n",
    "- Создать машинного обучения для выявления мошенничества с кредитными картами\n",
    "- Благодаря сравнительному анализу различных метрик, выявить лучшую модель"
   ]
  },
  {
   "cell_type": "markdown",
   "id": "0b89a2f7-10c8-4747-98a4-f11739b8d621",
   "metadata": {},
   "source": [
    "## Стадии решения задачи\n",
    "- подключение модулей (import modules)\n",
    "- загрузка данных (data lodaing)\n",
    "- разведочный анализ данных (exploratory data analysis, EDA)\n",
    "- предварительная обработка данных (preprocessing)\n",
    "- обучение 3 моделей (models fitting)\n",
    "- использование метрик классификаций\n",
    "- прогнозирование (prediction)"
   ]
  },
  {
   "cell_type": "markdown",
   "id": "bebe5a9d-a29e-4a68-8fa0-9797c1e58de8",
   "metadata": {},
   "source": [
    "# 1. Подключение библиотек"
   ]
  },
  {
   "cell_type": "markdown",
   "id": "b10b8b3c",
   "metadata": {},
   "source": [
    "Для решения задачи анализа данных воспользуемся библиотеками numpy, pandas и scikit-learn.\n",
    "- Библиотека pandas предоставляет широкий спектр функций по обработке табличных данных.\n",
    "- Кроме того, нам понадобятся библиотеки matplotlib, seaborn для научной визуализации\n",
    "- Библиотека numpy содержит реализации многомерных массивов и алгоритмов линейной алгебры. \n",
    "- Библиотека scikit-learn реализует множество алгоритмов машинного обучения. "
   ]
  },
  {
   "cell_type": "code",
   "execution_count": 1,
   "id": "1209750d-f4c8-4bbc-a304-95ca6c1f5f56",
   "metadata": {},
   "outputs": [],
   "source": [
    "import pandas as pd #для создания датафрейма\n",
    "import matplotlib.pyplot as plt #графики\n",
    "import seaborn as sns #графики\n",
    "import numpy as np #работа с массивами\n",
    "\n",
    "# для обучения\n",
    "from sklearn.ensemble import RandomForestClassifier\n",
    "from sklearn.model_selection import train_test_split\n",
    "from sklearn.metrics import classification_report, confusion_matrix\n",
    "from sklearn.neighbors import KNeighborsClassifier\n",
    "from sklearn.metrics import accuracy_score, classification_report\n",
    "from sklearn.ensemble import RandomForestClassifier\n",
    "from sklearn.naive_bayes import GaussianNB\n",
    "from sklearn.preprocessing import StandardScaler\n",
    "from sklearn.datasets import load_iris\n",
    "from sklearn.linear_model import LogisticRegression\n",
    "from sklearn.model_selection import cross_val_score, GridSearchCV, learning_curve\n",
    "\n",
    "import warnings \n",
    "\n",
    "# Ignore all FutureWarnings\n",
    "warnings.filterwarnings(\"ignore\")"
   ]
  },
  {
   "cell_type": "markdown",
   "id": "8f79fe4e-18dc-41e2-b1d6-d306c8db1d09",
   "metadata": {},
   "source": [
    "# 2. Загружаем данные"
   ]
  },
  {
   "cell_type": "code",
   "execution_count": 2,
   "id": "c3a974ad-7f43-4b86-9240-ef52ab86224f",
   "metadata": {},
   "outputs": [],
   "source": [
    "df = pd.read_csv('creditcard.csv')"
   ]
  },
  {
   "cell_type": "code",
   "execution_count": 3,
   "id": "cf9f8a89-7da3-4dae-80ed-94e31456c181",
   "metadata": {},
   "outputs": [
    {
     "data": {
      "text/html": [
       "<div>\n",
       "<style scoped>\n",
       "    .dataframe tbody tr th:only-of-type {\n",
       "        vertical-align: middle;\n",
       "    }\n",
       "\n",
       "    .dataframe tbody tr th {\n",
       "        vertical-align: top;\n",
       "    }\n",
       "\n",
       "    .dataframe thead th {\n",
       "        text-align: right;\n",
       "    }\n",
       "</style>\n",
       "<table border=\"1\" class=\"dataframe\">\n",
       "  <thead>\n",
       "    <tr style=\"text-align: right;\">\n",
       "      <th></th>\n",
       "      <th>Time</th>\n",
       "      <th>V1</th>\n",
       "      <th>V2</th>\n",
       "      <th>V3</th>\n",
       "      <th>V4</th>\n",
       "      <th>V5</th>\n",
       "      <th>V6</th>\n",
       "      <th>V7</th>\n",
       "      <th>V8</th>\n",
       "      <th>V9</th>\n",
       "      <th>...</th>\n",
       "      <th>V21</th>\n",
       "      <th>V22</th>\n",
       "      <th>V23</th>\n",
       "      <th>V24</th>\n",
       "      <th>V25</th>\n",
       "      <th>V26</th>\n",
       "      <th>V27</th>\n",
       "      <th>V28</th>\n",
       "      <th>Amount</th>\n",
       "      <th>Class</th>\n",
       "    </tr>\n",
       "  </thead>\n",
       "  <tbody>\n",
       "    <tr>\n",
       "      <th>0</th>\n",
       "      <td>0.0</td>\n",
       "      <td>-1.359807</td>\n",
       "      <td>-0.072781</td>\n",
       "      <td>2.536347</td>\n",
       "      <td>1.378155</td>\n",
       "      <td>-0.338321</td>\n",
       "      <td>0.462388</td>\n",
       "      <td>0.239599</td>\n",
       "      <td>0.098698</td>\n",
       "      <td>0.363787</td>\n",
       "      <td>...</td>\n",
       "      <td>-0.018307</td>\n",
       "      <td>0.277838</td>\n",
       "      <td>-0.110474</td>\n",
       "      <td>0.066928</td>\n",
       "      <td>0.128539</td>\n",
       "      <td>-0.189115</td>\n",
       "      <td>0.133558</td>\n",
       "      <td>-0.021053</td>\n",
       "      <td>149.62</td>\n",
       "      <td>0</td>\n",
       "    </tr>\n",
       "    <tr>\n",
       "      <th>1</th>\n",
       "      <td>0.0</td>\n",
       "      <td>1.191857</td>\n",
       "      <td>0.266151</td>\n",
       "      <td>0.166480</td>\n",
       "      <td>0.448154</td>\n",
       "      <td>0.060018</td>\n",
       "      <td>-0.082361</td>\n",
       "      <td>-0.078803</td>\n",
       "      <td>0.085102</td>\n",
       "      <td>-0.255425</td>\n",
       "      <td>...</td>\n",
       "      <td>-0.225775</td>\n",
       "      <td>-0.638672</td>\n",
       "      <td>0.101288</td>\n",
       "      <td>-0.339846</td>\n",
       "      <td>0.167170</td>\n",
       "      <td>0.125895</td>\n",
       "      <td>-0.008983</td>\n",
       "      <td>0.014724</td>\n",
       "      <td>2.69</td>\n",
       "      <td>0</td>\n",
       "    </tr>\n",
       "    <tr>\n",
       "      <th>2</th>\n",
       "      <td>1.0</td>\n",
       "      <td>-1.358354</td>\n",
       "      <td>-1.340163</td>\n",
       "      <td>1.773209</td>\n",
       "      <td>0.379780</td>\n",
       "      <td>-0.503198</td>\n",
       "      <td>1.800499</td>\n",
       "      <td>0.791461</td>\n",
       "      <td>0.247676</td>\n",
       "      <td>-1.514654</td>\n",
       "      <td>...</td>\n",
       "      <td>0.247998</td>\n",
       "      <td>0.771679</td>\n",
       "      <td>0.909412</td>\n",
       "      <td>-0.689281</td>\n",
       "      <td>-0.327642</td>\n",
       "      <td>-0.139097</td>\n",
       "      <td>-0.055353</td>\n",
       "      <td>-0.059752</td>\n",
       "      <td>378.66</td>\n",
       "      <td>0</td>\n",
       "    </tr>\n",
       "    <tr>\n",
       "      <th>3</th>\n",
       "      <td>1.0</td>\n",
       "      <td>-0.966272</td>\n",
       "      <td>-0.185226</td>\n",
       "      <td>1.792993</td>\n",
       "      <td>-0.863291</td>\n",
       "      <td>-0.010309</td>\n",
       "      <td>1.247203</td>\n",
       "      <td>0.237609</td>\n",
       "      <td>0.377436</td>\n",
       "      <td>-1.387024</td>\n",
       "      <td>...</td>\n",
       "      <td>-0.108300</td>\n",
       "      <td>0.005274</td>\n",
       "      <td>-0.190321</td>\n",
       "      <td>-1.175575</td>\n",
       "      <td>0.647376</td>\n",
       "      <td>-0.221929</td>\n",
       "      <td>0.062723</td>\n",
       "      <td>0.061458</td>\n",
       "      <td>123.50</td>\n",
       "      <td>0</td>\n",
       "    </tr>\n",
       "    <tr>\n",
       "      <th>4</th>\n",
       "      <td>2.0</td>\n",
       "      <td>-1.158233</td>\n",
       "      <td>0.877737</td>\n",
       "      <td>1.548718</td>\n",
       "      <td>0.403034</td>\n",
       "      <td>-0.407193</td>\n",
       "      <td>0.095921</td>\n",
       "      <td>0.592941</td>\n",
       "      <td>-0.270533</td>\n",
       "      <td>0.817739</td>\n",
       "      <td>...</td>\n",
       "      <td>-0.009431</td>\n",
       "      <td>0.798278</td>\n",
       "      <td>-0.137458</td>\n",
       "      <td>0.141267</td>\n",
       "      <td>-0.206010</td>\n",
       "      <td>0.502292</td>\n",
       "      <td>0.219422</td>\n",
       "      <td>0.215153</td>\n",
       "      <td>69.99</td>\n",
       "      <td>0</td>\n",
       "    </tr>\n",
       "  </tbody>\n",
       "</table>\n",
       "<p>5 rows × 31 columns</p>\n",
       "</div>"
      ],
      "text/plain": [
       "   Time        V1        V2        V3        V4        V5        V6        V7  \\\n",
       "0   0.0 -1.359807 -0.072781  2.536347  1.378155 -0.338321  0.462388  0.239599   \n",
       "1   0.0  1.191857  0.266151  0.166480  0.448154  0.060018 -0.082361 -0.078803   \n",
       "2   1.0 -1.358354 -1.340163  1.773209  0.379780 -0.503198  1.800499  0.791461   \n",
       "3   1.0 -0.966272 -0.185226  1.792993 -0.863291 -0.010309  1.247203  0.237609   \n",
       "4   2.0 -1.158233  0.877737  1.548718  0.403034 -0.407193  0.095921  0.592941   \n",
       "\n",
       "         V8        V9  ...       V21       V22       V23       V24       V25  \\\n",
       "0  0.098698  0.363787  ... -0.018307  0.277838 -0.110474  0.066928  0.128539   \n",
       "1  0.085102 -0.255425  ... -0.225775 -0.638672  0.101288 -0.339846  0.167170   \n",
       "2  0.247676 -1.514654  ...  0.247998  0.771679  0.909412 -0.689281 -0.327642   \n",
       "3  0.377436 -1.387024  ... -0.108300  0.005274 -0.190321 -1.175575  0.647376   \n",
       "4 -0.270533  0.817739  ... -0.009431  0.798278 -0.137458  0.141267 -0.206010   \n",
       "\n",
       "        V26       V27       V28  Amount  Class  \n",
       "0 -0.189115  0.133558 -0.021053  149.62      0  \n",
       "1  0.125895 -0.008983  0.014724    2.69      0  \n",
       "2 -0.139097 -0.055353 -0.059752  378.66      0  \n",
       "3 -0.221929  0.062723  0.061458  123.50      0  \n",
       "4  0.502292  0.219422  0.215153   69.99      0  \n",
       "\n",
       "[5 rows x 31 columns]"
      ]
     },
     "execution_count": 3,
     "metadata": {},
     "output_type": "execute_result"
    }
   ],
   "source": [
    "df.head()"
   ]
  },
  {
   "cell_type": "markdown",
   "id": "1b1ea2d7-965e-443f-97ff-313a12f6425b",
   "metadata": {},
   "source": [
    "# Описание данных"
   ]
  },
  {
   "cell_type": "markdown",
   "id": "ba5b656c-f696-4d80-af31-b479a88f2a44",
   "metadata": {},
   "source": [
    "Признаки:\n",
    "- Time - Кол-во секунд, прошедших между каждой транзакцией и первой транзакцией в наборе данных\n",
    "- Amount - это сумма транзакции, эта функция может использоваться, например, для обучения с учётом затрат\n",
    "- V1...V28 - Скрытые данные пользователей \n",
    "\n",
    "Целевой признак:\n",
    "- Class - переменная ответа, которая принимает значение 1 в случае мошенничества и 0 в остальных случаях"
   ]
  },
  {
   "cell_type": "markdown",
   "id": "bf6e38e9-908f-4c5c-9551-61adf09100a5",
   "metadata": {},
   "source": [
    "# 2.1. Первичный анализ"
   ]
  },
  {
   "cell_type": "code",
   "execution_count": 4,
   "id": "8fa4c801-bed0-4d17-861d-a9ef34302ddb",
   "metadata": {},
   "outputs": [
    {
     "data": {
      "text/html": [
       "<div>\n",
       "<style scoped>\n",
       "    .dataframe tbody tr th:only-of-type {\n",
       "        vertical-align: middle;\n",
       "    }\n",
       "\n",
       "    .dataframe tbody tr th {\n",
       "        vertical-align: top;\n",
       "    }\n",
       "\n",
       "    .dataframe thead th {\n",
       "        text-align: right;\n",
       "    }\n",
       "</style>\n",
       "<table border=\"1\" class=\"dataframe\">\n",
       "  <thead>\n",
       "    <tr style=\"text-align: right;\">\n",
       "      <th></th>\n",
       "      <th>Time</th>\n",
       "      <th>V1</th>\n",
       "      <th>V2</th>\n",
       "      <th>V3</th>\n",
       "      <th>V4</th>\n",
       "      <th>V5</th>\n",
       "      <th>V6</th>\n",
       "      <th>V7</th>\n",
       "      <th>V8</th>\n",
       "      <th>V9</th>\n",
       "      <th>...</th>\n",
       "      <th>V21</th>\n",
       "      <th>V22</th>\n",
       "      <th>V23</th>\n",
       "      <th>V24</th>\n",
       "      <th>V25</th>\n",
       "      <th>V26</th>\n",
       "      <th>V27</th>\n",
       "      <th>V28</th>\n",
       "      <th>Amount</th>\n",
       "      <th>Class</th>\n",
       "    </tr>\n",
       "  </thead>\n",
       "  <tbody>\n",
       "    <tr>\n",
       "      <th>66197</th>\n",
       "      <td>51933.0</td>\n",
       "      <td>-1.874786</td>\n",
       "      <td>-3.105252</td>\n",
       "      <td>2.033033</td>\n",
       "      <td>-1.997230</td>\n",
       "      <td>0.648031</td>\n",
       "      <td>-1.192880</td>\n",
       "      <td>-1.611201</td>\n",
       "      <td>0.245112</td>\n",
       "      <td>-1.865026</td>\n",
       "      <td>...</td>\n",
       "      <td>0.277774</td>\n",
       "      <td>0.434256</td>\n",
       "      <td>0.493363</td>\n",
       "      <td>-0.058583</td>\n",
       "      <td>-0.245379</td>\n",
       "      <td>-0.302985</td>\n",
       "      <td>-0.133223</td>\n",
       "      <td>-0.060476</td>\n",
       "      <td>113.00</td>\n",
       "      <td>0</td>\n",
       "    </tr>\n",
       "    <tr>\n",
       "      <th>142817</th>\n",
       "      <td>84956.0</td>\n",
       "      <td>1.109306</td>\n",
       "      <td>0.036589</td>\n",
       "      <td>0.726715</td>\n",
       "      <td>0.927785</td>\n",
       "      <td>-0.578607</td>\n",
       "      <td>-0.525990</td>\n",
       "      <td>-0.001354</td>\n",
       "      <td>-0.086065</td>\n",
       "      <td>0.295823</td>\n",
       "      <td>...</td>\n",
       "      <td>-0.146445</td>\n",
       "      <td>-0.215617</td>\n",
       "      <td>0.078569</td>\n",
       "      <td>0.662180</td>\n",
       "      <td>0.329868</td>\n",
       "      <td>0.260934</td>\n",
       "      <td>-0.003820</td>\n",
       "      <td>0.020446</td>\n",
       "      <td>28.84</td>\n",
       "      <td>0</td>\n",
       "    </tr>\n",
       "    <tr>\n",
       "      <th>34651</th>\n",
       "      <td>37766.0</td>\n",
       "      <td>0.952919</td>\n",
       "      <td>0.544368</td>\n",
       "      <td>0.190448</td>\n",
       "      <td>2.735223</td>\n",
       "      <td>0.830167</td>\n",
       "      <td>1.663600</td>\n",
       "      <td>-0.255378</td>\n",
       "      <td>0.538381</td>\n",
       "      <td>-0.384192</td>\n",
       "      <td>...</td>\n",
       "      <td>-0.033905</td>\n",
       "      <td>0.288240</td>\n",
       "      <td>0.012668</td>\n",
       "      <td>-1.047677</td>\n",
       "      <td>0.334794</td>\n",
       "      <td>0.203818</td>\n",
       "      <td>0.102563</td>\n",
       "      <td>0.041459</td>\n",
       "      <td>7.57</td>\n",
       "      <td>0</td>\n",
       "    </tr>\n",
       "    <tr>\n",
       "      <th>256501</th>\n",
       "      <td>157729.0</td>\n",
       "      <td>-1.182202</td>\n",
       "      <td>-0.025782</td>\n",
       "      <td>3.183450</td>\n",
       "      <td>0.534385</td>\n",
       "      <td>-1.405067</td>\n",
       "      <td>1.407112</td>\n",
       "      <td>-0.936555</td>\n",
       "      <td>0.490006</td>\n",
       "      <td>0.903806</td>\n",
       "      <td>...</td>\n",
       "      <td>-0.401192</td>\n",
       "      <td>0.195966</td>\n",
       "      <td>-0.298087</td>\n",
       "      <td>1.046367</td>\n",
       "      <td>0.477509</td>\n",
       "      <td>-0.217217</td>\n",
       "      <td>0.502342</td>\n",
       "      <td>0.114366</td>\n",
       "      <td>33.00</td>\n",
       "      <td>0</td>\n",
       "    </tr>\n",
       "    <tr>\n",
       "      <th>261994</th>\n",
       "      <td>160264.0</td>\n",
       "      <td>2.086706</td>\n",
       "      <td>-0.995649</td>\n",
       "      <td>-1.956735</td>\n",
       "      <td>-1.194951</td>\n",
       "      <td>-0.024762</td>\n",
       "      <td>-0.519696</td>\n",
       "      <td>-0.187047</td>\n",
       "      <td>-0.206100</td>\n",
       "      <td>-0.771827</td>\n",
       "      <td>...</td>\n",
       "      <td>0.080278</td>\n",
       "      <td>-0.077649</td>\n",
       "      <td>0.006922</td>\n",
       "      <td>-1.176005</td>\n",
       "      <td>-0.024841</td>\n",
       "      <td>-0.268109</td>\n",
       "      <td>-0.071838</td>\n",
       "      <td>-0.070299</td>\n",
       "      <td>101.00</td>\n",
       "      <td>0</td>\n",
       "    </tr>\n",
       "  </tbody>\n",
       "</table>\n",
       "<p>5 rows × 31 columns</p>\n",
       "</div>"
      ],
      "text/plain": [
       "            Time        V1        V2        V3        V4        V5        V6  \\\n",
       "66197    51933.0 -1.874786 -3.105252  2.033033 -1.997230  0.648031 -1.192880   \n",
       "142817   84956.0  1.109306  0.036589  0.726715  0.927785 -0.578607 -0.525990   \n",
       "34651    37766.0  0.952919  0.544368  0.190448  2.735223  0.830167  1.663600   \n",
       "256501  157729.0 -1.182202 -0.025782  3.183450  0.534385 -1.405067  1.407112   \n",
       "261994  160264.0  2.086706 -0.995649 -1.956735 -1.194951 -0.024762 -0.519696   \n",
       "\n",
       "              V7        V8        V9  ...       V21       V22       V23  \\\n",
       "66197  -1.611201  0.245112 -1.865026  ...  0.277774  0.434256  0.493363   \n",
       "142817 -0.001354 -0.086065  0.295823  ... -0.146445 -0.215617  0.078569   \n",
       "34651  -0.255378  0.538381 -0.384192  ... -0.033905  0.288240  0.012668   \n",
       "256501 -0.936555  0.490006  0.903806  ... -0.401192  0.195966 -0.298087   \n",
       "261994 -0.187047 -0.206100 -0.771827  ...  0.080278 -0.077649  0.006922   \n",
       "\n",
       "             V24       V25       V26       V27       V28  Amount  Class  \n",
       "66197  -0.058583 -0.245379 -0.302985 -0.133223 -0.060476  113.00      0  \n",
       "142817  0.662180  0.329868  0.260934 -0.003820  0.020446   28.84      0  \n",
       "34651  -1.047677  0.334794  0.203818  0.102563  0.041459    7.57      0  \n",
       "256501  1.046367  0.477509 -0.217217  0.502342  0.114366   33.00      0  \n",
       "261994 -1.176005 -0.024841 -0.268109 -0.071838 -0.070299  101.00      0  \n",
       "\n",
       "[5 rows x 31 columns]"
      ]
     },
     "execution_count": 4,
     "metadata": {},
     "output_type": "execute_result"
    }
   ],
   "source": [
    "df.sample(5)"
   ]
  },
  {
   "cell_type": "code",
   "execution_count": 5,
   "id": "c19579f3-4574-4328-bc66-99d39684d760",
   "metadata": {},
   "outputs": [
    {
     "data": {
      "text/plain": [
       "(284807, 31)"
      ]
     },
     "execution_count": 5,
     "metadata": {},
     "output_type": "execute_result"
    }
   ],
   "source": [
    "# Размерность дата-сета\n",
    "df.shape"
   ]
  },
  {
   "cell_type": "code",
   "execution_count": 6,
   "id": "6748a05f-beb0-4236-877e-b2ebd8bead67",
   "metadata": {},
   "outputs": [
    {
     "name": "stdout",
     "output_type": "stream",
     "text": [
      "<class 'pandas.core.frame.DataFrame'>\n",
      "RangeIndex: 284807 entries, 0 to 284806\n",
      "Data columns (total 31 columns):\n",
      " #   Column  Non-Null Count   Dtype  \n",
      "---  ------  --------------   -----  \n",
      " 0   Time    284807 non-null  float64\n",
      " 1   V1      284807 non-null  float64\n",
      " 2   V2      284807 non-null  float64\n",
      " 3   V3      284807 non-null  float64\n",
      " 4   V4      284807 non-null  float64\n",
      " 5   V5      284807 non-null  float64\n",
      " 6   V6      284807 non-null  float64\n",
      " 7   V7      284807 non-null  float64\n",
      " 8   V8      284807 non-null  float64\n",
      " 9   V9      284807 non-null  float64\n",
      " 10  V10     284807 non-null  float64\n",
      " 11  V11     284807 non-null  float64\n",
      " 12  V12     284807 non-null  float64\n",
      " 13  V13     284807 non-null  float64\n",
      " 14  V14     284807 non-null  float64\n",
      " 15  V15     284807 non-null  float64\n",
      " 16  V16     284807 non-null  float64\n",
      " 17  V17     284807 non-null  float64\n",
      " 18  V18     284807 non-null  float64\n",
      " 19  V19     284807 non-null  float64\n",
      " 20  V20     284807 non-null  float64\n",
      " 21  V21     284807 non-null  float64\n",
      " 22  V22     284807 non-null  float64\n",
      " 23  V23     284807 non-null  float64\n",
      " 24  V24     284807 non-null  float64\n",
      " 25  V25     284807 non-null  float64\n",
      " 26  V26     284807 non-null  float64\n",
      " 27  V27     284807 non-null  float64\n",
      " 28  V28     284807 non-null  float64\n",
      " 29  Amount  284807 non-null  float64\n",
      " 30  Class   284807 non-null  int64  \n",
      "dtypes: float64(30), int64(1)\n",
      "memory usage: 67.4 MB\n"
     ]
    }
   ],
   "source": [
    "df.info()"
   ]
  },
  {
   "cell_type": "code",
   "execution_count": 7,
   "id": "61934042-34e4-4af9-9c37-fc6ab31a6695",
   "metadata": {},
   "outputs": [
    {
     "data": {
      "text/plain": [
       "Time      0\n",
       "V1        0\n",
       "V2        0\n",
       "V3        0\n",
       "V4        0\n",
       "V5        0\n",
       "V6        0\n",
       "V7        0\n",
       "V8        0\n",
       "V9        0\n",
       "V10       0\n",
       "V11       0\n",
       "V12       0\n",
       "V13       0\n",
       "V14       0\n",
       "V15       0\n",
       "V16       0\n",
       "V17       0\n",
       "V18       0\n",
       "V19       0\n",
       "V20       0\n",
       "V21       0\n",
       "V22       0\n",
       "V23       0\n",
       "V24       0\n",
       "V25       0\n",
       "V26       0\n",
       "V27       0\n",
       "V28       0\n",
       "Amount    0\n",
       "Class     0\n",
       "dtype: int64"
      ]
     },
     "execution_count": 7,
     "metadata": {},
     "output_type": "execute_result"
    }
   ],
   "source": [
    "# Проверяем дата-сет на пустые значения\n",
    "df.isna().sum()"
   ]
  },
  {
   "cell_type": "markdown",
   "id": "fdac1d7f-8c17-4c6c-b57f-d8c8ffcc52da",
   "metadata": {},
   "source": [
    "### Пустых значений не обнаружено"
   ]
  },
  {
   "cell_type": "code",
   "execution_count": 8,
   "id": "2171a0b1-4475-46ac-96b7-8fcb58e1de7d",
   "metadata": {},
   "outputs": [
    {
     "data": {
      "text/plain": [
       "1081"
      ]
     },
     "execution_count": 8,
     "metadata": {},
     "output_type": "execute_result"
    }
   ],
   "source": [
    "# Проверяем дата-сет на дублирование\n",
    "df.duplicated().sum()"
   ]
  },
  {
   "cell_type": "code",
   "execution_count": 9,
   "id": "83906adb-e17d-4286-bcbc-95bba8c00404",
   "metadata": {},
   "outputs": [],
   "source": [
    "# Удаляем дубликаты\n",
    "df = df.drop_duplicates()"
   ]
  },
  {
   "cell_type": "code",
   "execution_count": 10,
   "id": "244fe883-60a0-42c3-83bf-8150cd34981a",
   "metadata": {},
   "outputs": [
    {
     "data": {
      "text/plain": [
       "0"
      ]
     },
     "execution_count": 10,
     "metadata": {},
     "output_type": "execute_result"
    }
   ],
   "source": [
    "# Проверка\n",
    "df.duplicated().sum()"
   ]
  },
  {
   "cell_type": "code",
   "execution_count": 11,
   "id": "76313f41-db40-453e-9b68-6c0b95063be6",
   "metadata": {},
   "outputs": [
    {
     "data": {
      "text/plain": [
       "<Axes: >"
      ]
     },
     "execution_count": 11,
     "metadata": {},
     "output_type": "execute_result"
    },
    {
     "data": {
      "image/png": "[encoded data removed]",
      "text/plain": [
       "<Figure size 640x480 with 2 Axes>"
      ]
     },
     "metadata": {},
     "output_type": "display_data"
    }
   ],
   "source": [
    "# Корреляционная карта дата-сета\n",
    "sns.heatmap(df.corr())"
   ]
  },
  {
   "cell_type": "markdown",
   "id": "9a633d1f-55a9-40e3-bd17-777a332f4397",
   "metadata": {},
   "source": [
    "### Заметим, что зависимостей совсем не обнаружено"
   ]
  },
  {
   "cell_type": "code",
   "execution_count": 12,
   "id": "92ba76f2",
   "metadata": {},
   "outputs": [],
   "source": [
    "columns = ['V1', 'V2', 'V3', 'V4', 'V5', 'V6', 'V7' ,'V8', 'V9', 'V10', 'V11', 'V12', 'V13', 'V14', 'V15', 'V16', 'V17', 'V18', 'V19', 'V20', 'V21', 'V22', 'V23', 'V24', 'V25', 'V26', 'V27', 'V28']"
   ]
  },
  {
   "cell_type": "code",
   "execution_count": 14,
   "id": "49f01735-287d-4c06-9a98-245fa8a5d812",
   "metadata": {},
   "outputs": [
    {
     "data": {
      "text/html": [
       "<div>\n",
       "<style scoped>\n",
       "    .dataframe tbody tr th:only-of-type {\n",
       "        vertical-align: middle;\n",
       "    }\n",
       "\n",
       "    .dataframe tbody tr th {\n",
       "        vertical-align: top;\n",
       "    }\n",
       "\n",
       "    .dataframe thead th {\n",
       "        text-align: right;\n",
       "    }\n",
       "</style>\n",
       "<table border=\"1\" class=\"dataframe\">\n",
       "  <thead>\n",
       "    <tr style=\"text-align: right;\">\n",
       "      <th></th>\n",
       "      <th>count</th>\n",
       "      <th>mean</th>\n",
       "      <th>std</th>\n",
       "      <th>min</th>\n",
       "      <th>25%</th>\n",
       "      <th>50%</th>\n",
       "      <th>75%</th>\n",
       "      <th>max</th>\n",
       "    </tr>\n",
       "  </thead>\n",
       "  <tbody>\n",
       "    <tr>\n",
       "      <th>Time</th>\n",
       "      <td>283726.0000</td>\n",
       "      <td>94811.0776</td>\n",
       "      <td>47481.0479</td>\n",
       "      <td>0.0000</td>\n",
       "      <td>54204.7500</td>\n",
       "      <td>84692.5000</td>\n",
       "      <td>139298.0000</td>\n",
       "      <td>172792.0000</td>\n",
       "    </tr>\n",
       "    <tr>\n",
       "      <th>V1</th>\n",
       "      <td>283726.0000</td>\n",
       "      <td>0.0059</td>\n",
       "      <td>1.9480</td>\n",
       "      <td>-56.4075</td>\n",
       "      <td>-0.9160</td>\n",
       "      <td>0.0204</td>\n",
       "      <td>1.3161</td>\n",
       "      <td>2.4549</td>\n",
       "    </tr>\n",
       "    <tr>\n",
       "      <th>V2</th>\n",
       "      <td>283726.0000</td>\n",
       "      <td>-0.0041</td>\n",
       "      <td>1.6467</td>\n",
       "      <td>-72.7157</td>\n",
       "      <td>-0.6003</td>\n",
       "      <td>0.0639</td>\n",
       "      <td>0.8003</td>\n",
       "      <td>22.0577</td>\n",
       "    </tr>\n",
       "    <tr>\n",
       "      <th>V3</th>\n",
       "      <td>283726.0000</td>\n",
       "      <td>0.0016</td>\n",
       "      <td>1.5087</td>\n",
       "      <td>-48.3256</td>\n",
       "      <td>-0.8897</td>\n",
       "      <td>0.1800</td>\n",
       "      <td>1.0270</td>\n",
       "      <td>9.3826</td>\n",
       "    </tr>\n",
       "    <tr>\n",
       "      <th>V4</th>\n",
       "      <td>283726.0000</td>\n",
       "      <td>-0.0030</td>\n",
       "      <td>1.4142</td>\n",
       "      <td>-5.6832</td>\n",
       "      <td>-0.8501</td>\n",
       "      <td>-0.0222</td>\n",
       "      <td>0.7396</td>\n",
       "      <td>16.8753</td>\n",
       "    </tr>\n",
       "    <tr>\n",
       "      <th>V5</th>\n",
       "      <td>283726.0000</td>\n",
       "      <td>0.0018</td>\n",
       "      <td>1.3770</td>\n",
       "      <td>-113.7433</td>\n",
       "      <td>-0.6898</td>\n",
       "      <td>-0.0535</td>\n",
       "      <td>0.6122</td>\n",
       "      <td>34.8017</td>\n",
       "    </tr>\n",
       "    <tr>\n",
       "      <th>V6</th>\n",
       "      <td>283726.0000</td>\n",
       "      <td>-0.0011</td>\n",
       "      <td>1.3319</td>\n",
       "      <td>-26.1605</td>\n",
       "      <td>-0.7690</td>\n",
       "      <td>-0.2752</td>\n",
       "      <td>0.3968</td>\n",
       "      <td>73.3016</td>\n",
       "    </tr>\n",
       "    <tr>\n",
       "      <th>V7</th>\n",
       "      <td>283726.0000</td>\n",
       "      <td>0.0018</td>\n",
       "      <td>1.2277</td>\n",
       "      <td>-43.5572</td>\n",
       "      <td>-0.5525</td>\n",
       "      <td>0.0409</td>\n",
       "      <td>0.5705</td>\n",
       "      <td>120.5895</td>\n",
       "    </tr>\n",
       "    <tr>\n",
       "      <th>V8</th>\n",
       "      <td>283726.0000</td>\n",
       "      <td>-0.0009</td>\n",
       "      <td>1.1791</td>\n",
       "      <td>-73.2167</td>\n",
       "      <td>-0.2088</td>\n",
       "      <td>0.0219</td>\n",
       "      <td>0.3257</td>\n",
       "      <td>20.0072</td>\n",
       "    </tr>\n",
       "    <tr>\n",
       "      <th>V9</th>\n",
       "      <td>283726.0000</td>\n",
       "      <td>-0.0016</td>\n",
       "      <td>1.0955</td>\n",
       "      <td>-13.4341</td>\n",
       "      <td>-0.6442</td>\n",
       "      <td>-0.0526</td>\n",
       "      <td>0.5960</td>\n",
       "      <td>15.5950</td>\n",
       "    </tr>\n",
       "    <tr>\n",
       "      <th>V10</th>\n",
       "      <td>283726.0000</td>\n",
       "      <td>-0.0014</td>\n",
       "      <td>1.0764</td>\n",
       "      <td>-24.5883</td>\n",
       "      <td>-0.5356</td>\n",
       "      <td>-0.0932</td>\n",
       "      <td>0.4536</td>\n",
       "      <td>23.7451</td>\n",
       "    </tr>\n",
       "    <tr>\n",
       "      <th>V11</th>\n",
       "      <td>283726.0000</td>\n",
       "      <td>0.0002</td>\n",
       "      <td>1.0187</td>\n",
       "      <td>-4.7975</td>\n",
       "      <td>-0.7616</td>\n",
       "      <td>-0.0323</td>\n",
       "      <td>0.7396</td>\n",
       "      <td>12.0189</td>\n",
       "    </tr>\n",
       "    <tr>\n",
       "      <th>V12</th>\n",
       "      <td>283726.0000</td>\n",
       "      <td>-0.0007</td>\n",
       "      <td>0.9947</td>\n",
       "      <td>-18.6837</td>\n",
       "      <td>-0.4062</td>\n",
       "      <td>0.1391</td>\n",
       "      <td>0.6170</td>\n",
       "      <td>7.8484</td>\n",
       "    </tr>\n",
       "    <tr>\n",
       "      <th>V13</th>\n",
       "      <td>283726.0000</td>\n",
       "      <td>0.0006</td>\n",
       "      <td>0.9954</td>\n",
       "      <td>-5.7919</td>\n",
       "      <td>-0.6479</td>\n",
       "      <td>-0.0129</td>\n",
       "      <td>0.6632</td>\n",
       "      <td>7.1269</td>\n",
       "    </tr>\n",
       "    <tr>\n",
       "      <th>V14</th>\n",
       "      <td>283726.0000</td>\n",
       "      <td>0.0003</td>\n",
       "      <td>0.9522</td>\n",
       "      <td>-19.2143</td>\n",
       "      <td>-0.4257</td>\n",
       "      <td>0.0502</td>\n",
       "      <td>0.4923</td>\n",
       "      <td>10.5268</td>\n",
       "    </tr>\n",
       "    <tr>\n",
       "      <th>V15</th>\n",
       "      <td>283726.0000</td>\n",
       "      <td>0.0010</td>\n",
       "      <td>0.9149</td>\n",
       "      <td>-4.4989</td>\n",
       "      <td>-0.5815</td>\n",
       "      <td>0.0493</td>\n",
       "      <td>0.6501</td>\n",
       "      <td>8.8777</td>\n",
       "    </tr>\n",
       "    <tr>\n",
       "      <th>V16</th>\n",
       "      <td>283726.0000</td>\n",
       "      <td>0.0012</td>\n",
       "      <td>0.8737</td>\n",
       "      <td>-14.1299</td>\n",
       "      <td>-0.4669</td>\n",
       "      <td>0.0671</td>\n",
       "      <td>0.5235</td>\n",
       "      <td>17.3151</td>\n",
       "    </tr>\n",
       "    <tr>\n",
       "      <th>V17</th>\n",
       "      <td>283726.0000</td>\n",
       "      <td>0.0002</td>\n",
       "      <td>0.8425</td>\n",
       "      <td>-25.1628</td>\n",
       "      <td>-0.4839</td>\n",
       "      <td>-0.0659</td>\n",
       "      <td>0.3990</td>\n",
       "      <td>9.2535</td>\n",
       "    </tr>\n",
       "    <tr>\n",
       "      <th>V18</th>\n",
       "      <td>283726.0000</td>\n",
       "      <td>0.0015</td>\n",
       "      <td>0.8374</td>\n",
       "      <td>-9.4987</td>\n",
       "      <td>-0.4980</td>\n",
       "      <td>-0.0021</td>\n",
       "      <td>0.5020</td>\n",
       "      <td>5.0411</td>\n",
       "    </tr>\n",
       "    <tr>\n",
       "      <th>V19</th>\n",
       "      <td>283726.0000</td>\n",
       "      <td>-0.0003</td>\n",
       "      <td>0.8134</td>\n",
       "      <td>-7.2135</td>\n",
       "      <td>-0.4563</td>\n",
       "      <td>0.0034</td>\n",
       "      <td>0.4585</td>\n",
       "      <td>5.5920</td>\n",
       "    </tr>\n",
       "    <tr>\n",
       "      <th>V20</th>\n",
       "      <td>283726.0000</td>\n",
       "      <td>0.0002</td>\n",
       "      <td>0.7700</td>\n",
       "      <td>-54.4977</td>\n",
       "      <td>-0.2115</td>\n",
       "      <td>-0.0624</td>\n",
       "      <td>0.1332</td>\n",
       "      <td>39.4209</td>\n",
       "    </tr>\n",
       "    <tr>\n",
       "      <th>V21</th>\n",
       "      <td>283726.0000</td>\n",
       "      <td>-0.0004</td>\n",
       "      <td>0.7239</td>\n",
       "      <td>-34.8304</td>\n",
       "      <td>-0.2283</td>\n",
       "      <td>-0.0294</td>\n",
       "      <td>0.1862</td>\n",
       "      <td>27.2028</td>\n",
       "    </tr>\n",
       "    <tr>\n",
       "      <th>V22</th>\n",
       "      <td>283726.0000</td>\n",
       "      <td>-0.0000</td>\n",
       "      <td>0.7246</td>\n",
       "      <td>-10.9331</td>\n",
       "      <td>-0.5427</td>\n",
       "      <td>0.0067</td>\n",
       "      <td>0.5282</td>\n",
       "      <td>10.5031</td>\n",
       "    </tr>\n",
       "    <tr>\n",
       "      <th>V23</th>\n",
       "      <td>283726.0000</td>\n",
       "      <td>0.0002</td>\n",
       "      <td>0.6237</td>\n",
       "      <td>-44.8077</td>\n",
       "      <td>-0.1617</td>\n",
       "      <td>-0.0112</td>\n",
       "      <td>0.1477</td>\n",
       "      <td>22.5284</td>\n",
       "    </tr>\n",
       "    <tr>\n",
       "      <th>V24</th>\n",
       "      <td>283726.0000</td>\n",
       "      <td>0.0002</td>\n",
       "      <td>0.6056</td>\n",
       "      <td>-2.8366</td>\n",
       "      <td>-0.3545</td>\n",
       "      <td>0.0410</td>\n",
       "      <td>0.4397</td>\n",
       "      <td>4.5845</td>\n",
       "    </tr>\n",
       "    <tr>\n",
       "      <th>V25</th>\n",
       "      <td>283726.0000</td>\n",
       "      <td>-0.0002</td>\n",
       "      <td>0.5212</td>\n",
       "      <td>-10.2954</td>\n",
       "      <td>-0.3175</td>\n",
       "      <td>0.0163</td>\n",
       "      <td>0.3507</td>\n",
       "      <td>7.5196</td>\n",
       "    </tr>\n",
       "    <tr>\n",
       "      <th>V26</th>\n",
       "      <td>283726.0000</td>\n",
       "      <td>0.0001</td>\n",
       "      <td>0.4821</td>\n",
       "      <td>-2.6046</td>\n",
       "      <td>-0.3268</td>\n",
       "      <td>-0.0522</td>\n",
       "      <td>0.2403</td>\n",
       "      <td>3.5173</td>\n",
       "    </tr>\n",
       "    <tr>\n",
       "      <th>V27</th>\n",
       "      <td>283726.0000</td>\n",
       "      <td>0.0018</td>\n",
       "      <td>0.3957</td>\n",
       "      <td>-22.5657</td>\n",
       "      <td>-0.0706</td>\n",
       "      <td>0.0015</td>\n",
       "      <td>0.0912</td>\n",
       "      <td>31.6122</td>\n",
       "    </tr>\n",
       "    <tr>\n",
       "      <th>V28</th>\n",
       "      <td>283726.0000</td>\n",
       "      <td>0.0005</td>\n",
       "      <td>0.3280</td>\n",
       "      <td>-15.4301</td>\n",
       "      <td>-0.0528</td>\n",
       "      <td>0.0113</td>\n",
       "      <td>0.0783</td>\n",
       "      <td>33.8478</td>\n",
       "    </tr>\n",
       "    <tr>\n",
       "      <th>Amount</th>\n",
       "      <td>283726.0000</td>\n",
       "      <td>88.4727</td>\n",
       "      <td>250.3994</td>\n",
       "      <td>0.0000</td>\n",
       "      <td>5.6000</td>\n",
       "      <td>22.0000</td>\n",
       "      <td>77.5100</td>\n",
       "      <td>25691.1600</td>\n",
       "    </tr>\n",
       "    <tr>\n",
       "      <th>Class</th>\n",
       "      <td>283726.0000</td>\n",
       "      <td>0.0017</td>\n",
       "      <td>0.0408</td>\n",
       "      <td>0.0000</td>\n",
       "      <td>0.0000</td>\n",
       "      <td>0.0000</td>\n",
       "      <td>0.0000</td>\n",
       "      <td>1.0000</td>\n",
       "    </tr>\n",
       "  </tbody>\n",
       "</table>\n",
       "</div>"
      ],
      "text/plain": [
       "             count       mean        std       min        25%        50%  \\\n",
       "Time   283726.0000 94811.0776 47481.0479    0.0000 54204.7500 84692.5000   \n",
       "V1     283726.0000     0.0059     1.9480  -56.4075    -0.9160     0.0204   \n",
       "V2     283726.0000    -0.0041     1.6467  -72.7157    -0.6003     0.0639   \n",
       "V3     283726.0000     0.0016     1.5087  -48.3256    -0.8897     0.1800   \n",
       "V4     283726.0000    -0.0030     1.4142   -5.6832    -0.8501    -0.0222   \n",
       "V5     283726.0000     0.0018     1.3770 -113.7433    -0.6898    -0.0535   \n",
       "V6     283726.0000    -0.0011     1.3319  -26.1605    -0.7690    -0.2752   \n",
       "V7     283726.0000     0.0018     1.2277  -43.5572    -0.5525     0.0409   \n",
       "V8     283726.0000    -0.0009     1.1791  -73.2167    -0.2088     0.0219   \n",
       "V9     283726.0000    -0.0016     1.0955  -13.4341    -0.6442    -0.0526   \n",
       "V10    283726.0000    -0.0014     1.0764  -24.5883    -0.5356    -0.0932   \n",
       "V11    283726.0000     0.0002     1.0187   -4.7975    -0.7616    -0.0323   \n",
       "V12    283726.0000    -0.0007     0.9947  -18.6837    -0.4062     0.1391   \n",
       "V13    283726.0000     0.0006     0.9954   -5.7919    -0.6479    -0.0129   \n",
       "V14    283726.0000     0.0003     0.9522  -19.2143    -0.4257     0.0502   \n",
       "V15    283726.0000     0.0010     0.9149   -4.4989    -0.5815     0.0493   \n",
       "V16    283726.0000     0.0012     0.8737  -14.1299    -0.4669     0.0671   \n",
       "V17    283726.0000     0.0002     0.8425  -25.1628    -0.4839    -0.0659   \n",
       "V18    283726.0000     0.0015     0.8374   -9.4987    -0.4980    -0.0021   \n",
       "V19    283726.0000    -0.0003     0.8134   -7.2135    -0.4563     0.0034   \n",
       "V20    283726.0000     0.0002     0.7700  -54.4977    -0.2115    -0.0624   \n",
       "V21    283726.0000    -0.0004     0.7239  -34.8304    -0.2283    -0.0294   \n",
       "V22    283726.0000    -0.0000     0.7246  -10.9331    -0.5427     0.0067   \n",
       "V23    283726.0000     0.0002     0.6237  -44.8077    -0.1617    -0.0112   \n",
       "V24    283726.0000     0.0002     0.6056   -2.8366    -0.3545     0.0410   \n",
       "V25    283726.0000    -0.0002     0.5212  -10.2954    -0.3175     0.0163   \n",
       "V26    283726.0000     0.0001     0.4821   -2.6046    -0.3268    -0.0522   \n",
       "V27    283726.0000     0.0018     0.3957  -22.5657    -0.0706     0.0015   \n",
       "V28    283726.0000     0.0005     0.3280  -15.4301    -0.0528     0.0113   \n",
       "Amount 283726.0000    88.4727   250.3994    0.0000     5.6000    22.0000   \n",
       "Class  283726.0000     0.0017     0.0408    0.0000     0.0000     0.0000   \n",
       "\n",
       "               75%         max  \n",
       "Time   139298.0000 172792.0000  \n",
       "V1          1.3161      2.4549  \n",
       "V2          0.8003     22.0577  \n",
       "V3          1.0270      9.3826  \n",
       "V4          0.7396     16.8753  \n",
       "V5          0.6122     34.8017  \n",
       "V6          0.3968     73.3016  \n",
       "V7          0.5705    120.5895  \n",
       "V8          0.3257     20.0072  \n",
       "V9          0.5960     15.5950  \n",
       "V10         0.4536     23.7451  \n",
       "V11         0.7396     12.0189  \n",
       "V12         0.6170      7.8484  \n",
       "V13         0.6632      7.1269  \n",
       "V14         0.4923     10.5268  \n",
       "V15         0.6501      8.8777  \n",
       "V16         0.5235     17.3151  \n",
       "V17         0.3990      9.2535  \n",
       "V18         0.5020      5.0411  \n",
       "V19         0.4585      5.5920  \n",
       "V20         0.1332     39.4209  \n",
       "V21         0.1862     27.2028  \n",
       "V22         0.5282     10.5031  \n",
       "V23         0.1477     22.5284  \n",
       "V24         0.4397      4.5845  \n",
       "V25         0.3507      7.5196  \n",
       "V26         0.2403      3.5173  \n",
       "V27         0.0912     31.6122  \n",
       "V28         0.0783     33.8478  \n",
       "Amount     77.5100  25691.1600  \n",
       "Class       0.0000      1.0000  "
      ]
     },
     "execution_count": 14,
     "metadata": {},
     "output_type": "execute_result"
    }
   ],
   "source": [
    "np.set_printoptions(suppress=True)\n",
    "pd.set_option('display.float_format', lambda x: '%0.4f' % x)\n",
    "df.describe().T"
   ]
  },
  {
   "cell_type": "markdown",
   "id": "d1ed38cc-42c8-44ea-b4f5-e94867713014",
   "metadata": {},
   "source": [
    "### Выбросов не наблюдается"
   ]
  },
  {
   "cell_type": "markdown",
   "id": "05de8e19-58f1-4251-815f-6ce676087fdb",
   "metadata": {},
   "source": [
    "## Заметим, что в столбце Class много одинаковых значений, проверим"
   ]
  },
  {
   "cell_type": "code",
   "execution_count": 15,
   "id": "c950cbe4-3994-4e86-abae-d488efca26e8",
   "metadata": {},
   "outputs": [
    {
     "data": {
      "text/plain": [
       "Class\n",
       "0    283253\n",
       "1       473\n",
       "Name: count, dtype: int64"
      ]
     },
     "execution_count": 15,
     "metadata": {},
     "output_type": "execute_result"
    }
   ],
   "source": [
    "df['Class'].value_counts()"
   ]
  },
  {
   "cell_type": "code",
   "execution_count": 16,
   "id": "b1037049-1cd7-4b97-a418-2d2a019ca007",
   "metadata": {},
   "outputs": [
    {
     "data": {
      "text/plain": [
       "<Axes: xlabel='Class', ylabel='count'>"
      ]
     },
     "execution_count": 16,
     "metadata": {},
     "output_type": "execute_result"
    },
    {
     "data": {
      "image/png": "[encoded data removed]",
      "text/plain": [
       "<Figure size 640x480 with 1 Axes>"
      ]
     },
     "metadata": {},
     "output_type": "display_data"
    }
   ],
   "source": [
    "# Визуализируем\n",
    "sns.countplot(data = df, x = 'Class')"
   ]
  },
  {
   "cell_type": "code",
   "execution_count": 17,
   "id": "1ac08eed-b75e-45c2-a8a1-aeeba7c273f5",
   "metadata": {},
   "outputs": [
    {
     "data": {
      "image/png": "[encoded data removed]",
      "text/plain": [
       "<Figure size 700x700 with 1 Axes>"
      ]
     },
     "metadata": {},
     "output_type": "display_data"
    }
   ],
   "source": [
    "palette = ['#00777F', '#5BABF5', '#AADEFE', '#EAAC9F', '#8AA0AF']\n",
    "status_counts = df.Class.value_counts()\n",
    "\n",
    "plt.figure(figsize=(7, 7))\n",
    "plt.pie(status_counts, labels=status_counts.index, autopct='%1.1f%%', \n",
    "        startangle=140, colors=palette, shadow=True)\n",
    "\n",
    "plt.title('Распределение целевой переменной')\n",
    "\n",
    "plt.tight_layout()\n",
    "plt.show()"
   ]
  },
  {
   "cell_type": "markdown",
   "id": "53709fea",
   "metadata": {},
   "source": [
    "Заметим, что df['Class'] очень несбалансированный"
   ]
  },
  {
   "cell_type": "markdown",
   "id": "adcfe67d-0671-4a43-961b-655cb2f1a728",
   "metadata": {},
   "source": [
    "# 3. Обучение моделей"
   ]
  },
  {
   "cell_type": "code",
   "execution_count": 18,
   "id": "fa240526-8eaa-49ca-8d36-4672f7d741fb",
   "metadata": {},
   "outputs": [],
   "source": [
    "from sklearn.model_selection import train_test_split\n",
    "X_train, X_test, y_train, y_test = train_test_split(df.drop('Class', axis = 1), \n",
    "                                                      df['Class'], \n",
    "                                                      test_size=0.3, \n",
    "                                                      random_state=19, stratify = df['Class'])"
   ]
  },
  {
   "cell_type": "code",
   "execution_count": 19,
   "id": "e3b6a102-1eda-4969-a909-f21c34ea8ba3",
   "metadata": {},
   "outputs": [],
   "source": [
    "dct_main = {}"
   ]
  },
  {
   "cell_type": "markdown",
   "id": "fd4ea040-fdad-455e-af53-91929655eea2",
   "metadata": {},
   "source": [
    "## KNN"
   ]
  },
  {
   "cell_type": "markdown",
   "id": "c7e62a55",
   "metadata": {},
   "source": [
    "Мы выбрали модель обучения KNN, потому что он является популярным инструментом для бинарной классификации, особенно в случае, когда есть ограниченное количество данных или когда модель должна быть простой и быстрой."
   ]
  },
  {
   "cell_type": "code",
   "execution_count": 20,
   "id": "22fd0a1b-a1d4-4e11-a47d-9d24f4a0758c",
   "metadata": {},
   "outputs": [],
   "source": [
    "X_train = np.array(X_train)\n",
    "y_train = np.array(y_train)\n",
    "X_test = np.array(X_test)\n",
    "\n",
    "knn = KNeighborsClassifier(n_neighbors=3)\n",
    "knn.fit(X_train, y_train)\n",
    "y_pred = knn.predict(X_test)"
   ]
  },
  {
   "cell_type": "code",
   "execution_count": 21,
   "id": "cebf1683",
   "metadata": {},
   "outputs": [
    {
     "data": {
      "text/plain": [
       "array([0, 0, 0, 0, 0, 0, 0, 0, 0, 0, 0, 0, 0, 0, 0, 0, 0, 0, 0, 0],\n",
       "      dtype=int64)"
      ]
     },
     "metadata": {},
     "output_type": "display_data"
    },
    {
     "data": {
      "text/plain": [
       "array([0, 0, 0, 0, 0, 0, 0, 0, 0, 0, 0, 0, 0, 0, 0, 0, 0, 0, 0, 0],\n",
       "      dtype=int64)"
      ]
     },
     "metadata": {},
     "output_type": "display_data"
    }
   ],
   "source": [
    "display(y_pred[:20])\n",
    "display(np.array(y_test[:20]))"
   ]
  },
  {
   "cell_type": "code",
   "execution_count": 22,
   "id": "7daac657-edb8-405b-9dc8-2dda7b507e6f",
   "metadata": {},
   "outputs": [
    {
     "data": {
      "text/plain": [
       "0.998366972908198"
      ]
     },
     "execution_count": 22,
     "metadata": {},
     "output_type": "execute_result"
    }
   ],
   "source": [
    "accuracy_score(y_test, y_pred)\n"
   ]
  },
  {
   "cell_type": "code",
   "execution_count": 23,
   "id": "82034f13-818c-4cfc-8612-488618237774",
   "metadata": {},
   "outputs": [
    {
     "name": "stdout",
     "output_type": "stream",
     "text": [
      "              precision    recall  f1-score   support\n",
      "\n",
      "           0       1.00      1.00      1.00     84976\n",
      "           1       0.80      0.03      0.05       142\n",
      "\n",
      "    accuracy                           1.00     85118\n",
      "   macro avg       0.90      0.51      0.53     85118\n",
      "weighted avg       1.00      1.00      1.00     85118\n",
      "\n"
     ]
    }
   ],
   "source": [
    "print(classification_report(y_test, y_pred))"
   ]
  },
  {
   "cell_type": "code",
   "execution_count": 24,
   "id": "84216ca7",
   "metadata": {},
   "outputs": [
    {
     "name": "stdout",
     "output_type": "stream",
     "text": [
      "0.5268022747434786\n"
     ]
    }
   ],
   "source": [
    "res1 = classification_report(y_test, y_pred, output_dict=True)['macro avg']['f1-score']\n",
    "dct_main['Kneighbors'] = res1\n",
    "print(res1)"
   ]
  },
  {
   "cell_type": "code",
   "execution_count": 25,
   "id": "80ff86c0",
   "metadata": {},
   "outputs": [
    {
     "data": {
      "image/png": "[encoded data removed]",
      "text/plain": [
       "<Figure size 640x480 with 1 Axes>"
      ]
     },
     "metadata": {},
     "output_type": "display_data"
    }
   ],
   "source": [
    "from sklearn.metrics import RocCurveDisplay\n",
    "knn_disp = RocCurveDisplay.from_estimator(knn, X_test, y_test)"
   ]
  },
  {
   "cell_type": "markdown",
   "id": "40b4087f",
   "metadata": {},
   "source": [
    "Видим, что KNN справилась не очень хорошо, переходим к другой модели."
   ]
  },
  {
   "cell_type": "markdown",
   "id": "4dec0d76-6d9c-4af9-8628-81d9eef0f0e7",
   "metadata": {},
   "source": [
    "# GNB"
   ]
  },
  {
   "cell_type": "markdown",
   "id": "506ab7c2",
   "metadata": {},
   "source": [
    "Мы выбрали Гауссовский Наивный Байес (GNB) из-за его простоты и эффективности в обработке несбалансированных выборок. Основные преимущества GNB:\n",
    "\n",
    " - Простота и скорость: Один из самых простых и быстрых алгоритмов машинного обучения.\n",
    " -  Устойчивость к вариациям: Хорошо справляется с высокой дисперсией данных.\n",
    " -  Нечувствительность к размеру выборки: Эффективен на маленьких и больших выборках."
   ]
  },
  {
   "cell_type": "code",
   "execution_count": 26,
   "id": "d0dbcc2a-77f8-4872-975a-31bb5ecc47eb",
   "metadata": {},
   "outputs": [],
   "source": [
    "gnb = GaussianNB()\n",
    "\n",
    "gnb.fit(X_train, y_train)\n",
    "\n",
    "gnb_pred_test = gnb.predict(X_test)"
   ]
  },
  {
   "cell_type": "code",
   "execution_count": 27,
   "id": "a097c474",
   "metadata": {},
   "outputs": [
    {
     "data": {
      "text/plain": [
       "array([0, 0, 0, 0, 0, 0, 0, 0, 0, 0, 0, 0, 0, 0, 0, 0, 0, 0, 0, 0],\n",
       "      dtype=int64)"
      ]
     },
     "metadata": {},
     "output_type": "display_data"
    },
    {
     "data": {
      "text/plain": [
       "array([0, 0, 0, 0, 0, 0, 0, 0, 0, 0, 0, 0, 0, 0, 0, 0, 0, 0, 0, 0],\n",
       "      dtype=int64)"
      ]
     },
     "metadata": {},
     "output_type": "display_data"
    }
   ],
   "source": [
    "display(gnb_pred_test[:20])\n",
    "display(np.array(y_test[:20]))"
   ]
  },
  {
   "cell_type": "code",
   "execution_count": 28,
   "id": "2af898d0-869e-4ce4-9932-09415077306e",
   "metadata": {},
   "outputs": [
    {
     "data": {
      "text/plain": [
       "0.9928217298338777"
      ]
     },
     "execution_count": 28,
     "metadata": {},
     "output_type": "execute_result"
    }
   ],
   "source": [
    "accuracy_score(y_test, gnb_pred_test)\n"
   ]
  },
  {
   "cell_type": "code",
   "execution_count": 29,
   "id": "f1b8b36c-9442-417a-9010-9198695c4a58",
   "metadata": {},
   "outputs": [
    {
     "name": "stdout",
     "output_type": "stream",
     "text": [
      "              precision    recall  f1-score   support\n",
      "\n",
      "           0       1.00      0.99      1.00     84976\n",
      "           1       0.14      0.63      0.23       142\n",
      "\n",
      "    accuracy                           0.99     85118\n",
      "   macro avg       0.57      0.81      0.61     85118\n",
      "weighted avg       1.00      0.99      1.00     85118\n",
      "\n"
     ]
    }
   ],
   "source": [
    "print(classification_report(y_test, gnb_pred_test))"
   ]
  },
  {
   "cell_type": "code",
   "execution_count": 30,
   "id": "f21f5878",
   "metadata": {},
   "outputs": [
    {
     "name": "stdout",
     "output_type": "stream",
     "text": [
      "0.6119770803760728\n"
     ]
    }
   ],
   "source": [
    "res2 = classification_report(y_test, gnb_pred_test, output_dict=True)['macro avg']['f1-score']\n",
    "dct_main['GNB'] = res2\n",
    "print(res2)"
   ]
  },
  {
   "cell_type": "code",
   "execution_count": 31,
   "id": "cbe8407e",
   "metadata": {},
   "outputs": [
    {
     "data": {
      "image/png": "[encoded data removed]",
      "text/plain": [
       "<Figure size 640x480 with 1 Axes>"
      ]
     },
     "metadata": {},
     "output_type": "display_data"
    }
   ],
   "source": [
    "from sklearn.metrics import RocCurveDisplay\n",
    "gnb_disp = RocCurveDisplay.from_estimator(gnb, X_test, y_test)"
   ]
  },
  {
   "cell_type": "markdown",
   "id": "6801c4d6-ea3c-40b7-b236-51072a2c1a5f",
   "metadata": {},
   "source": [
    "# Logistic Regress"
   ]
  },
  {
   "cell_type": "markdown",
   "id": "fbdc78ec",
   "metadata": {},
   "source": [
    "Мы выбрали логистическую регрессию (LR) как метод для классификации и прогнозирования, так как он эффективен при несбалансированных выборках благодаря следующим преимуществам:\n",
    "\n",
    " - Быстрое построение модели с качественными результатами.\n",
    " - Нечувствительность к масштабу признаков, что снижает влияние несбалансированности на модель."
   ]
  },
  {
   "cell_type": "code",
   "execution_count": 32,
   "id": "b4cbdb7d-6099-4242-b968-c621806118f3",
   "metadata": {},
   "outputs": [],
   "source": [
    "sc = StandardScaler()\n",
    "X_train = sc.fit_transform(X_train)\n",
    "X_test = sc.transform(X_test)\n",
    "\n",
    "lr = LogisticRegression(random_state = 42)\n",
    "\n",
    "lr.fit(X_train, y_train)\n",
    "\n",
    "lr_pred_test = lr.predict(X_test)"
   ]
  },
  {
   "cell_type": "code",
   "execution_count": 33,
   "id": "c9b7cdfc",
   "metadata": {},
   "outputs": [
    {
     "data": {
      "text/plain": [
       "array([0, 0, 0, 0, 0, 0, 0, 0, 0, 0, 0, 0, 0, 0, 0, 0, 0, 0, 0, 0],\n",
       "      dtype=int64)"
      ]
     },
     "metadata": {},
     "output_type": "display_data"
    },
    {
     "data": {
      "text/plain": [
       "array([0, 0, 0, 0, 0, 0, 0, 0, 0, 0, 0, 0, 0, 0, 0, 0, 0, 0, 0, 0],\n",
       "      dtype=int64)"
      ]
     },
     "metadata": {},
     "output_type": "display_data"
    }
   ],
   "source": [
    "display(lr_pred_test[:20])\n",
    "display(np.array(y_test[:20]))"
   ]
  },
  {
   "cell_type": "code",
   "execution_count": 34,
   "id": "13979532-b8f8-498d-9668-e3c6cd90426b",
   "metadata": {},
   "outputs": [
    {
     "data": {
      "text/plain": [
       "0.999177612255927"
      ]
     },
     "execution_count": 34,
     "metadata": {},
     "output_type": "execute_result"
    }
   ],
   "source": [
    "accuracy_score(y_test, lr_pred_test)\n"
   ]
  },
  {
   "cell_type": "code",
   "execution_count": 35,
   "id": "01d2b1c9-2f4a-472f-91e6-108c30985247",
   "metadata": {},
   "outputs": [
    {
     "name": "stdout",
     "output_type": "stream",
     "text": [
      "              precision    recall  f1-score   support\n",
      "\n",
      "           0       1.00      1.00      1.00     84976\n",
      "           1       0.88      0.58      0.70       142\n",
      "\n",
      "    accuracy                           1.00     85118\n",
      "   macro avg       0.94      0.79      0.85     85118\n",
      "weighted avg       1.00      1.00      1.00     85118\n",
      "\n"
     ]
    }
   ],
   "source": [
    "print(classification_report(y_test, lr_pred_test))"
   ]
  },
  {
   "cell_type": "code",
   "execution_count": 36,
   "id": "2453d62c",
   "metadata": {},
   "outputs": [
    {
     "name": "stdout",
     "output_type": "stream",
     "text": [
      "0.8514890329012961\n"
     ]
    }
   ],
   "source": [
    "res3 = classification_report(y_test, lr_pred_test, output_dict=True)['macro avg']['f1-score']\n",
    "dct_main['LR'] = res3\n",
    "print(res3)"
   ]
  },
  {
   "cell_type": "code",
   "execution_count": 37,
   "id": "7599ba56",
   "metadata": {},
   "outputs": [
    {
     "data": {
      "image/png": "[encoded data removed]",
      "text/plain": [
       "<Figure size 640x480 with 1 Axes>"
      ]
     },
     "metadata": {},
     "output_type": "display_data"
    }
   ],
   "source": [
    "lr_disp = RocCurveDisplay.from_estimator(lr, X_test, y_test) "
   ]
  },
  {
   "cell_type": "markdown",
   "id": "4669045a-44f5-44b4-8eec-372b3a9a8078",
   "metadata": {},
   "source": [
    "По итогам изучения метрик результатов обучения всех трёх моделей, можно констатировать, что лучше всех обучилась модель Logistic Regress."
   ]
  },
  {
   "cell_type": "markdown",
   "id": "a6384ff0-345d-4ea7-8324-5cae3102c32f",
   "metadata": {},
   "source": [
    "Далее будем работать с моделью Logistic Regress"
   ]
  },
  {
   "cell_type": "markdown",
   "id": "016d9028-5448-4566-845f-b925338a34d7",
   "metadata": {},
   "source": [
    "# 4. Визуальное сравнение результатов обучения моделей"
   ]
  },
  {
   "cell_type": "code",
   "execution_count": 38,
   "id": "5299108c-a90c-4260-8ffe-a9a30fba866b",
   "metadata": {},
   "outputs": [
    {
     "data": {
      "text/plain": [
       "[Text(0.5, 0, 'Models'),\n",
       " Text(0, 0.5, 'f1_score'),\n",
       " Text(0.5, 1.0, 'f1-score of ML Models')]"
      ]
     },
     "execution_count": 38,
     "metadata": {},
     "output_type": "execute_result"
    },
    {
     "data": {
      "image/png": "[encoded data removed]",
      "text/plain": [
       "<Figure size 640x480 with 1 Axes>"
      ]
     },
     "metadata": {},
     "output_type": "display_data"
    }
   ],
   "source": [
    "df3 = pd.DataFrame(dct_main.items())\n",
    "ax = sns.barplot(x=0, y=1, data=df3)\n",
    "ax.set(xlabel = 'Models', ylabel='f1_score', title='f1-score of ML Models')"
   ]
  },
  {
   "cell_type": "markdown",
   "id": "ed02ec94",
   "metadata": {},
   "source": [
    "Исходя из графика, можно сделать вывод, что показатель f1-score лучше всего у модели LogisticRegress "
   ]
  },
  {
   "cell_type": "code",
   "execution_count": 39,
   "id": "f03fa431-3776-4960-b7bf-9d45713116de",
   "metadata": {},
   "outputs": [
    {
     "data": {
      "text/html": [
       "<div>\n",
       "<style scoped>\n",
       "    .dataframe tbody tr th:only-of-type {\n",
       "        vertical-align: middle;\n",
       "    }\n",
       "\n",
       "    .dataframe tbody tr th {\n",
       "        vertical-align: top;\n",
       "    }\n",
       "\n",
       "    .dataframe thead th {\n",
       "        text-align: right;\n",
       "    }\n",
       "</style>\n",
       "<table border=\"1\" class=\"dataframe\">\n",
       "  <thead>\n",
       "    <tr style=\"text-align: right;\">\n",
       "      <th></th>\n",
       "      <th>Classifier</th>\n",
       "      <th>f1_score</th>\n",
       "    </tr>\n",
       "  </thead>\n",
       "  <tbody>\n",
       "    <tr>\n",
       "      <th>0</th>\n",
       "      <td>Kneighbors</td>\n",
       "      <td>0.5268</td>\n",
       "    </tr>\n",
       "    <tr>\n",
       "      <th>1</th>\n",
       "      <td>GNB</td>\n",
       "      <td>0.6120</td>\n",
       "    </tr>\n",
       "    <tr>\n",
       "      <th>2</th>\n",
       "      <td>LR</td>\n",
       "      <td>0.8515</td>\n",
       "    </tr>\n",
       "  </tbody>\n",
       "</table>\n",
       "</div>"
      ],
      "text/plain": [
       "   Classifier  f1_score\n",
       "0  Kneighbors    0.5268\n",
       "1         GNB    0.6120\n",
       "2          LR    0.8515"
      ]
     },
     "execution_count": 39,
     "metadata": {},
     "output_type": "execute_result"
    }
   ],
   "source": [
    "log_cols = [\"Classifier\", \"f1_score\"]\n",
    "log = pd.DataFrame(columns=log_cols)\n",
    "log['Classifier'] = dct_main.keys()\n",
    "log['f1_score'] = dct_main.values()\n",
    "log"
   ]
  },
  {
   "cell_type": "markdown",
   "id": "356392cd-62e5-4478-99a4-68055962cd50",
   "metadata": {},
   "source": [
    "# Настройка гиперпараметров"
   ]
  },
  {
   "cell_type": "markdown",
   "id": "20524743",
   "metadata": {},
   "source": [
    "Настроим гиперпараметры для модели LogisticRegression с параметрами random_state и C\n",
    " - random_state - это параметр, который устанавливает начальное значение генератора случайных чисел.\n",
    " - C - это параметр регуляризации, который отвечает за степень регуляризации модели."
   ]
  },
  {
   "cell_type": "code",
   "execution_count": 40,
   "id": "bea7a961-0538-40e1-abc0-2349b63e597d",
   "metadata": {},
   "outputs": [
    {
     "name": "stdout",
     "output_type": "stream",
     "text": [
      "Лучший параметр random_state:  0\n",
      "Лучший параметр C:  1\n",
      "CPU times: total: 3min 45s\n",
      "Wall time: 3min 45s\n"
     ]
    }
   ],
   "source": [
    "%%time\n",
    "# Hyperparameter tuning\n",
    "param_grid = {\n",
    "    'random_state': [0, 10, 20, 30, 42, 50, 60, 100],\n",
    "    'C': [0.001, 0.01, 0.1, 1, 10, 100]\n",
    "}\n",
    "\n",
    "logistic = LogisticRegression()\n",
    "\n",
    "grid_search = GridSearchCV(estimator=logistic, param_grid=param_grid, cv=5)\n",
    "\n",
    "grid_search.fit(X_train, y_train)\n",
    "\n",
    "print(\"Лучший параметр random_state: \", grid_search.best_params_['random_state'])\n",
    "print(\"Лучший параметр C: \", grid_search.best_params_['C'])\n"
   ]
  },
  {
   "cell_type": "markdown",
   "id": "2de76fcf-37f8-435b-963e-a2febd714768",
   "metadata": {},
   "source": [
    "## Обучим новую модель, используя лучшие гиперпараметры для LogisticRegress"
   ]
  },
  {
   "cell_type": "code",
   "execution_count": 41,
   "id": "0e5ae89d-5b35-4668-b0c2-ed62d4137403",
   "metadata": {},
   "outputs": [],
   "source": [
    "sc = StandardScaler()\n",
    "X_train = sc.fit_transform(X_train)\n",
    "X_test = sc.transform(X_test)\n",
    "\n",
    "lr = LogisticRegression(random_state = 0, C = 1)\n",
    "\n",
    "lr.fit(X_train, y_train)\n",
    "\n",
    "lr_pred_test = lr.predict(X_test)"
   ]
  },
  {
   "cell_type": "code",
   "execution_count": 42,
   "id": "5a53cd80-b382-458a-8e17-7bdcae374106",
   "metadata": {},
   "outputs": [
    {
     "name": "stdout",
     "output_type": "stream",
     "text": [
      "0.999177612255927\n"
     ]
    }
   ],
   "source": [
    "accuracy_score(y_test, lr_pred_test)\n",
    "res4 = accuracy_score(y_test, lr_pred_test)\n",
    "print(res4)"
   ]
  },
  {
   "cell_type": "code",
   "execution_count": 43,
   "id": "b0e5eab4-ad7f-41ca-bbd4-9317a050907c",
   "metadata": {},
   "outputs": [
    {
     "name": "stdout",
     "output_type": "stream",
     "text": [
      "              precision    recall  f1-score   support\n",
      "\n",
      "           0       1.00      1.00      1.00     84976\n",
      "           1       0.88      0.58      0.70       142\n",
      "\n",
      "    accuracy                           1.00     85118\n",
      "   macro avg       0.94      0.79      0.85     85118\n",
      "weighted avg       1.00      1.00      1.00     85118\n",
      "\n"
     ]
    }
   ],
   "source": [
    "print(classification_report(y_test, lr_pred_test))"
   ]
  },
  {
   "cell_type": "markdown",
   "id": "9b8c015a-8f18-4642-a466-af8c7504f521",
   "metadata": {},
   "source": [
    "### Сравнивая старую и новую метрику, можно констатировать, что она совершенно не изменилась"
   ]
  },
  {
   "cell_type": "markdown",
   "id": "d9844f46-dc45-40f1-b246-b9392900108c",
   "metadata": {},
   "source": [
    "# Вывод\n",
    "\n",
    "В ходе внимательного анализа датасета были обнаружены и удалены дублирующиеся строки. Пустых значений и выбросов в данных не было найдено. Мы обучили три модели: KNN, логистическая регрессия (LR) и Гауссовский Наивный Байес (GNB).\n",
    "\n",
    "Лучшие результаты показала модель логистической регрессии, которая продемонстрировала высокую точность и стабильность при тестировании. Настройка гиперпараметров не привела к заметным улучшениям метрик, что может указывать на то, что выбранная модель уже отображает оптимальные настройки для данного датасета.\n",
    "\n",
    "Также стоит отметить, что, несмотря на простоту, модель GNB показала конкурентоспособные результаты."
   ]
  }
 ],
 "metadata": {
  "kernelspec": {
   "display_name": "Python 3 (ipykernel)",
   "language": "python",
   "name": "python3"
  },
  "language_info": {
   "codemirror_mode": {
    "name": "ipython",
    "version": 3
   },
   "file_extension": ".py",
   "mimetype": "text/x-python",
   "name": "python",
   "nbconvert_exporter": "python",
   "pygments_lexer": "ipython3",
   "version": "3.11.5"
  }
 },
 "nbformat": 4,
 "nbformat_minor": 5
}
