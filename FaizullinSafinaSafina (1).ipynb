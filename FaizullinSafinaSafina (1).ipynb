{
 "cells": [
  {
   "cell_type": "markdown",
   "id": "bebe5a9d-a29e-4a68-8fa0-9797c1e58de8",
   "metadata": {},
   "source": [
    "# 1. Подключение библиотек"
   ]
  },
  {
   "cell_type": "code",
   "execution_count": 1,
   "id": "1209750d-f4c8-4bbc-a304-95ca6c1f5f56",
   "metadata": {},
   "outputs": [],
   "source": [
    "import pandas as pd #для создания датафрейма\n",
    "import matplotlib.pyplot as plt #графики\n",
    "import seaborn as sns #графики\n",
    "import numpy as np #работа с массивами\n",
    "\n",
    "# для обучения\n",
    "from sklearn.ensemble import RandomForestClassifier\n",
    "from sklearn.model_selection import train_test_split\n",
    "from sklearn.metrics import classification_report, confusion_matrix\n",
    "from sklearn.neighbors import KNeighborsClassifier\n",
    "from sklearn.metrics import accuracy_score, classification_report\n",
    "from sklearn.ensemble import RandomForestClassifier\n",
    "from sklearn.naive_bayes import GaussianNB\n",
    "from sklearn.preprocessing import StandardScaler\n",
    "from sklearn.datasets import load_iris\n",
    "from sklearn.linear_model import LogisticRegression\n",
    "from sklearn.model_selection import cross_val_score, GridSearchCV, learning_curve\n",
    "\n",
    "import warnings\n",
    "\n",
    "# Ignore all FutureWarnings\n",
    "warnings.filterwarnings(\"ignore\")"
   ]
  },
  {
   "cell_type": "markdown",
   "id": "8f79fe4e-18dc-41e2-b1d6-d306c8db1d09",
   "metadata": {},
   "source": [
    "# 2. Создаем читаемый датасет"
   ]
  },
  {
   "cell_type": "code",
   "execution_count": 2,
   "id": "c3a974ad-7f43-4b86-9240-ef52ab86224f",
   "metadata": {},
   "outputs": [],
   "source": [
    "df = pd.read_csv('creditcard.csv')"
   ]
  },
  {
   "cell_type": "code",
   "execution_count": 3,
   "id": "cf9f8a89-7da3-4dae-80ed-94e31456c181",
   "metadata": {},
   "outputs": [
    {
     "data": {
      "text/html": [
       "<div>\n",
       "<style scoped>\n",
       "    .dataframe tbody tr th:only-of-type {\n",
       "        vertical-align: middle;\n",
       "    }\n",
       "\n",
       "    .dataframe tbody tr th {\n",
       "        vertical-align: top;\n",
       "    }\n",
       "\n",
       "    .dataframe thead th {\n",
       "        text-align: right;\n",
       "    }\n",
       "</style>\n",
       "<table border=\"1\" class=\"dataframe\">\n",
       "  <thead>\n",
       "    <tr style=\"text-align: right;\">\n",
       "      <th></th>\n",
       "      <th>Time</th>\n",
       "      <th>V1</th>\n",
       "      <th>V2</th>\n",
       "      <th>V3</th>\n",
       "      <th>V4</th>\n",
       "      <th>V5</th>\n",
       "      <th>V6</th>\n",
       "      <th>V7</th>\n",
       "      <th>V8</th>\n",
       "      <th>V9</th>\n",
       "      <th>...</th>\n",
       "      <th>V21</th>\n",
       "      <th>V22</th>\n",
       "      <th>V23</th>\n",
       "      <th>V24</th>\n",
       "      <th>V25</th>\n",
       "      <th>V26</th>\n",
       "      <th>V27</th>\n",
       "      <th>V28</th>\n",
       "      <th>Amount</th>\n",
       "      <th>Class</th>\n",
       "    </tr>\n",
       "  </thead>\n",
       "  <tbody>\n",
       "    <tr>\n",
       "      <th>0</th>\n",
       "      <td>0.0</td>\n",
       "      <td>-1.359807</td>\n",
       "      <td>-0.072781</td>\n",
       "      <td>2.536347</td>\n",
       "      <td>1.378155</td>\n",
       "      <td>-0.338321</td>\n",
       "      <td>0.462388</td>\n",
       "      <td>0.239599</td>\n",
       "      <td>0.098698</td>\n",
       "      <td>0.363787</td>\n",
       "      <td>...</td>\n",
       "      <td>-0.018307</td>\n",
       "      <td>0.277838</td>\n",
       "      <td>-0.110474</td>\n",
       "      <td>0.066928</td>\n",
       "      <td>0.128539</td>\n",
       "      <td>-0.189115</td>\n",
       "      <td>0.133558</td>\n",
       "      <td>-0.021053</td>\n",
       "      <td>149.62</td>\n",
       "      <td>0</td>\n",
       "    </tr>\n",
       "    <tr>\n",
       "      <th>1</th>\n",
       "      <td>0.0</td>\n",
       "      <td>1.191857</td>\n",
       "      <td>0.266151</td>\n",
       "      <td>0.166480</td>\n",
       "      <td>0.448154</td>\n",
       "      <td>0.060018</td>\n",
       "      <td>-0.082361</td>\n",
       "      <td>-0.078803</td>\n",
       "      <td>0.085102</td>\n",
       "      <td>-0.255425</td>\n",
       "      <td>...</td>\n",
       "      <td>-0.225775</td>\n",
       "      <td>-0.638672</td>\n",
       "      <td>0.101288</td>\n",
       "      <td>-0.339846</td>\n",
       "      <td>0.167170</td>\n",
       "      <td>0.125895</td>\n",
       "      <td>-0.008983</td>\n",
       "      <td>0.014724</td>\n",
       "      <td>2.69</td>\n",
       "      <td>0</td>\n",
       "    </tr>\n",
       "    <tr>\n",
       "      <th>2</th>\n",
       "      <td>1.0</td>\n",
       "      <td>-1.358354</td>\n",
       "      <td>-1.340163</td>\n",
       "      <td>1.773209</td>\n",
       "      <td>0.379780</td>\n",
       "      <td>-0.503198</td>\n",
       "      <td>1.800499</td>\n",
       "      <td>0.791461</td>\n",
       "      <td>0.247676</td>\n",
       "      <td>-1.514654</td>\n",
       "      <td>...</td>\n",
       "      <td>0.247998</td>\n",
       "      <td>0.771679</td>\n",
       "      <td>0.909412</td>\n",
       "      <td>-0.689281</td>\n",
       "      <td>-0.327642</td>\n",
       "      <td>-0.139097</td>\n",
       "      <td>-0.055353</td>\n",
       "      <td>-0.059752</td>\n",
       "      <td>378.66</td>\n",
       "      <td>0</td>\n",
       "    </tr>\n",
       "    <tr>\n",
       "      <th>3</th>\n",
       "      <td>1.0</td>\n",
       "      <td>-0.966272</td>\n",
       "      <td>-0.185226</td>\n",
       "      <td>1.792993</td>\n",
       "      <td>-0.863291</td>\n",
       "      <td>-0.010309</td>\n",
       "      <td>1.247203</td>\n",
       "      <td>0.237609</td>\n",
       "      <td>0.377436</td>\n",
       "      <td>-1.387024</td>\n",
       "      <td>...</td>\n",
       "      <td>-0.108300</td>\n",
       "      <td>0.005274</td>\n",
       "      <td>-0.190321</td>\n",
       "      <td>-1.175575</td>\n",
       "      <td>0.647376</td>\n",
       "      <td>-0.221929</td>\n",
       "      <td>0.062723</td>\n",
       "      <td>0.061458</td>\n",
       "      <td>123.50</td>\n",
       "      <td>0</td>\n",
       "    </tr>\n",
       "    <tr>\n",
       "      <th>4</th>\n",
       "      <td>2.0</td>\n",
       "      <td>-1.158233</td>\n",
       "      <td>0.877737</td>\n",
       "      <td>1.548718</td>\n",
       "      <td>0.403034</td>\n",
       "      <td>-0.407193</td>\n",
       "      <td>0.095921</td>\n",
       "      <td>0.592941</td>\n",
       "      <td>-0.270533</td>\n",
       "      <td>0.817739</td>\n",
       "      <td>...</td>\n",
       "      <td>-0.009431</td>\n",
       "      <td>0.798278</td>\n",
       "      <td>-0.137458</td>\n",
       "      <td>0.141267</td>\n",
       "      <td>-0.206010</td>\n",
       "      <td>0.502292</td>\n",
       "      <td>0.219422</td>\n",
       "      <td>0.215153</td>\n",
       "      <td>69.99</td>\n",
       "      <td>0</td>\n",
       "    </tr>\n",
       "    <tr>\n",
       "      <th>...</th>\n",
       "      <td>...</td>\n",
       "      <td>...</td>\n",
       "      <td>...</td>\n",
       "      <td>...</td>\n",
       "      <td>...</td>\n",
       "      <td>...</td>\n",
       "      <td>...</td>\n",
       "      <td>...</td>\n",
       "      <td>...</td>\n",
       "      <td>...</td>\n",
       "      <td>...</td>\n",
       "      <td>...</td>\n",
       "      <td>...</td>\n",
       "      <td>...</td>\n",
       "      <td>...</td>\n",
       "      <td>...</td>\n",
       "      <td>...</td>\n",
       "      <td>...</td>\n",
       "      <td>...</td>\n",
       "      <td>...</td>\n",
       "      <td>...</td>\n",
       "    </tr>\n",
       "    <tr>\n",
       "      <th>284802</th>\n",
       "      <td>172786.0</td>\n",
       "      <td>-11.881118</td>\n",
       "      <td>10.071785</td>\n",
       "      <td>-9.834783</td>\n",
       "      <td>-2.066656</td>\n",
       "      <td>-5.364473</td>\n",
       "      <td>-2.606837</td>\n",
       "      <td>-4.918215</td>\n",
       "      <td>7.305334</td>\n",
       "      <td>1.914428</td>\n",
       "      <td>...</td>\n",
       "      <td>0.213454</td>\n",
       "      <td>0.111864</td>\n",
       "      <td>1.014480</td>\n",
       "      <td>-0.509348</td>\n",
       "      <td>1.436807</td>\n",
       "      <td>0.250034</td>\n",
       "      <td>0.943651</td>\n",
       "      <td>0.823731</td>\n",
       "      <td>0.77</td>\n",
       "      <td>0</td>\n",
       "    </tr>\n",
       "    <tr>\n",
       "      <th>284803</th>\n",
       "      <td>172787.0</td>\n",
       "      <td>-0.732789</td>\n",
       "      <td>-0.055080</td>\n",
       "      <td>2.035030</td>\n",
       "      <td>-0.738589</td>\n",
       "      <td>0.868229</td>\n",
       "      <td>1.058415</td>\n",
       "      <td>0.024330</td>\n",
       "      <td>0.294869</td>\n",
       "      <td>0.584800</td>\n",
       "      <td>...</td>\n",
       "      <td>0.214205</td>\n",
       "      <td>0.924384</td>\n",
       "      <td>0.012463</td>\n",
       "      <td>-1.016226</td>\n",
       "      <td>-0.606624</td>\n",
       "      <td>-0.395255</td>\n",
       "      <td>0.068472</td>\n",
       "      <td>-0.053527</td>\n",
       "      <td>24.79</td>\n",
       "      <td>0</td>\n",
       "    </tr>\n",
       "    <tr>\n",
       "      <th>284804</th>\n",
       "      <td>172788.0</td>\n",
       "      <td>1.919565</td>\n",
       "      <td>-0.301254</td>\n",
       "      <td>-3.249640</td>\n",
       "      <td>-0.557828</td>\n",
       "      <td>2.630515</td>\n",
       "      <td>3.031260</td>\n",
       "      <td>-0.296827</td>\n",
       "      <td>0.708417</td>\n",
       "      <td>0.432454</td>\n",
       "      <td>...</td>\n",
       "      <td>0.232045</td>\n",
       "      <td>0.578229</td>\n",
       "      <td>-0.037501</td>\n",
       "      <td>0.640134</td>\n",
       "      <td>0.265745</td>\n",
       "      <td>-0.087371</td>\n",
       "      <td>0.004455</td>\n",
       "      <td>-0.026561</td>\n",
       "      <td>67.88</td>\n",
       "      <td>0</td>\n",
       "    </tr>\n",
       "    <tr>\n",
       "      <th>284805</th>\n",
       "      <td>172788.0</td>\n",
       "      <td>-0.240440</td>\n",
       "      <td>0.530483</td>\n",
       "      <td>0.702510</td>\n",
       "      <td>0.689799</td>\n",
       "      <td>-0.377961</td>\n",
       "      <td>0.623708</td>\n",
       "      <td>-0.686180</td>\n",
       "      <td>0.679145</td>\n",
       "      <td>0.392087</td>\n",
       "      <td>...</td>\n",
       "      <td>0.265245</td>\n",
       "      <td>0.800049</td>\n",
       "      <td>-0.163298</td>\n",
       "      <td>0.123205</td>\n",
       "      <td>-0.569159</td>\n",
       "      <td>0.546668</td>\n",
       "      <td>0.108821</td>\n",
       "      <td>0.104533</td>\n",
       "      <td>10.00</td>\n",
       "      <td>0</td>\n",
       "    </tr>\n",
       "    <tr>\n",
       "      <th>284806</th>\n",
       "      <td>172792.0</td>\n",
       "      <td>-0.533413</td>\n",
       "      <td>-0.189733</td>\n",
       "      <td>0.703337</td>\n",
       "      <td>-0.506271</td>\n",
       "      <td>-0.012546</td>\n",
       "      <td>-0.649617</td>\n",
       "      <td>1.577006</td>\n",
       "      <td>-0.414650</td>\n",
       "      <td>0.486180</td>\n",
       "      <td>...</td>\n",
       "      <td>0.261057</td>\n",
       "      <td>0.643078</td>\n",
       "      <td>0.376777</td>\n",
       "      <td>0.008797</td>\n",
       "      <td>-0.473649</td>\n",
       "      <td>-0.818267</td>\n",
       "      <td>-0.002415</td>\n",
       "      <td>0.013649</td>\n",
       "      <td>217.00</td>\n",
       "      <td>0</td>\n",
       "    </tr>\n",
       "  </tbody>\n",
       "</table>\n",
       "<p>284807 rows × 31 columns</p>\n",
       "</div>"
      ],
      "text/plain": [
       "            Time         V1         V2        V3        V4        V5  \\\n",
       "0            0.0  -1.359807  -0.072781  2.536347  1.378155 -0.338321   \n",
       "1            0.0   1.191857   0.266151  0.166480  0.448154  0.060018   \n",
       "2            1.0  -1.358354  -1.340163  1.773209  0.379780 -0.503198   \n",
       "3            1.0  -0.966272  -0.185226  1.792993 -0.863291 -0.010309   \n",
       "4            2.0  -1.158233   0.877737  1.548718  0.403034 -0.407193   \n",
       "...          ...        ...        ...       ...       ...       ...   \n",
       "284802  172786.0 -11.881118  10.071785 -9.834783 -2.066656 -5.364473   \n",
       "284803  172787.0  -0.732789  -0.055080  2.035030 -0.738589  0.868229   \n",
       "284804  172788.0   1.919565  -0.301254 -3.249640 -0.557828  2.630515   \n",
       "284805  172788.0  -0.240440   0.530483  0.702510  0.689799 -0.377961   \n",
       "284806  172792.0  -0.533413  -0.189733  0.703337 -0.506271 -0.012546   \n",
       "\n",
       "              V6        V7        V8        V9  ...       V21       V22  \\\n",
       "0       0.462388  0.239599  0.098698  0.363787  ... -0.018307  0.277838   \n",
       "1      -0.082361 -0.078803  0.085102 -0.255425  ... -0.225775 -0.638672   \n",
       "2       1.800499  0.791461  0.247676 -1.514654  ...  0.247998  0.771679   \n",
       "3       1.247203  0.237609  0.377436 -1.387024  ... -0.108300  0.005274   \n",
       "4       0.095921  0.592941 -0.270533  0.817739  ... -0.009431  0.798278   \n",
       "...          ...       ...       ...       ...  ...       ...       ...   \n",
       "284802 -2.606837 -4.918215  7.305334  1.914428  ...  0.213454  0.111864   \n",
       "284803  1.058415  0.024330  0.294869  0.584800  ...  0.214205  0.924384   \n",
       "284804  3.031260 -0.296827  0.708417  0.432454  ...  0.232045  0.578229   \n",
       "284805  0.623708 -0.686180  0.679145  0.392087  ...  0.265245  0.800049   \n",
       "284806 -0.649617  1.577006 -0.414650  0.486180  ...  0.261057  0.643078   \n",
       "\n",
       "             V23       V24       V25       V26       V27       V28  Amount  \\\n",
       "0      -0.110474  0.066928  0.128539 -0.189115  0.133558 -0.021053  149.62   \n",
       "1       0.101288 -0.339846  0.167170  0.125895 -0.008983  0.014724    2.69   \n",
       "2       0.909412 -0.689281 -0.327642 -0.139097 -0.055353 -0.059752  378.66   \n",
       "3      -0.190321 -1.175575  0.647376 -0.221929  0.062723  0.061458  123.50   \n",
       "4      -0.137458  0.141267 -0.206010  0.502292  0.219422  0.215153   69.99   \n",
       "...          ...       ...       ...       ...       ...       ...     ...   \n",
       "284802  1.014480 -0.509348  1.436807  0.250034  0.943651  0.823731    0.77   \n",
       "284803  0.012463 -1.016226 -0.606624 -0.395255  0.068472 -0.053527   24.79   \n",
       "284804 -0.037501  0.640134  0.265745 -0.087371  0.004455 -0.026561   67.88   \n",
       "284805 -0.163298  0.123205 -0.569159  0.546668  0.108821  0.104533   10.00   \n",
       "284806  0.376777  0.008797 -0.473649 -0.818267 -0.002415  0.013649  217.00   \n",
       "\n",
       "        Class  \n",
       "0           0  \n",
       "1           0  \n",
       "2           0  \n",
       "3           0  \n",
       "4           0  \n",
       "...       ...  \n",
       "284802      0  \n",
       "284803      0  \n",
       "284804      0  \n",
       "284805      0  \n",
       "284806      0  \n",
       "\n",
       "[284807 rows x 31 columns]"
      ]
     },
     "execution_count": 3,
     "metadata": {},
     "output_type": "execute_result"
    }
   ],
   "source": [
    "df"
   ]
  },
  {
   "cell_type": "markdown",
   "id": "1b1ea2d7-965e-443f-97ff-313a12f6425b",
   "metadata": {},
   "source": [
    "# Описание данных"
   ]
  },
  {
   "cell_type": "markdown",
   "id": "ba5b656c-f696-4d80-af31-b479a88f2a44",
   "metadata": {},
   "source": [
    "Признаки:\n",
    "- Time - Кол-во секунд, прошедших между каждой транзакцией и первой транзакцией в наборе данных\n",
    "- Amount - это сумма транзакции, эта функция может использоваться, например, для обучения с учётом затрат\n",
    "- V1...V28 - Скрытые данные пользователей \n",
    "\n",
    "Целевой признак:\n",
    "- Class - переменная ответа, которая принимает значение 1 в случае мошенничества и 0 в остальных случаях"
   ]
  },
  {
   "cell_type": "markdown",
   "id": "0b89a2f7-10c8-4747-98a4-f11739b8d621",
   "metadata": {},
   "source": [
    "## Стадии решения задачи\n",
    "- подключение модулей (import modules)\n",
    "- загрузка данных (data lodaing)\n",
    "- разведочный анализ данных (exploratory data analysis, EDA)\n",
    "- предварительная обработка данных (preprocessing)\n",
    "- обучение 4 моделей (models fitting)\n",
    "- использование метрик классификаций\n",
    "- прогнозирование (prediction)"
   ]
  },
  {
   "cell_type": "markdown",
   "id": "bf6e38e9-908f-4c5c-9551-61adf09100a5",
   "metadata": {},
   "source": [
    "# 2.1. Первичный анализ"
   ]
  },
  {
   "cell_type": "code",
   "execution_count": 4,
   "id": "8fa4c801-bed0-4d17-861d-a9ef34302ddb",
   "metadata": {},
   "outputs": [
    {
     "data": {
      "text/html": [
       "<div>\n",
       "<style scoped>\n",
       "    .dataframe tbody tr th:only-of-type {\n",
       "        vertical-align: middle;\n",
       "    }\n",
       "\n",
       "    .dataframe tbody tr th {\n",
       "        vertical-align: top;\n",
       "    }\n",
       "\n",
       "    .dataframe thead th {\n",
       "        text-align: right;\n",
       "    }\n",
       "</style>\n",
       "<table border=\"1\" class=\"dataframe\">\n",
       "  <thead>\n",
       "    <tr style=\"text-align: right;\">\n",
       "      <th></th>\n",
       "      <th>Time</th>\n",
       "      <th>V1</th>\n",
       "      <th>V2</th>\n",
       "      <th>V3</th>\n",
       "      <th>V4</th>\n",
       "      <th>V5</th>\n",
       "      <th>V6</th>\n",
       "      <th>V7</th>\n",
       "      <th>V8</th>\n",
       "      <th>V9</th>\n",
       "      <th>...</th>\n",
       "      <th>V21</th>\n",
       "      <th>V22</th>\n",
       "      <th>V23</th>\n",
       "      <th>V24</th>\n",
       "      <th>V25</th>\n",
       "      <th>V26</th>\n",
       "      <th>V27</th>\n",
       "      <th>V28</th>\n",
       "      <th>Amount</th>\n",
       "      <th>Class</th>\n",
       "    </tr>\n",
       "  </thead>\n",
       "  <tbody>\n",
       "    <tr>\n",
       "      <th>0</th>\n",
       "      <td>0.0</td>\n",
       "      <td>-1.359807</td>\n",
       "      <td>-0.072781</td>\n",
       "      <td>2.536347</td>\n",
       "      <td>1.378155</td>\n",
       "      <td>-0.338321</td>\n",
       "      <td>0.462388</td>\n",
       "      <td>0.239599</td>\n",
       "      <td>0.098698</td>\n",
       "      <td>0.363787</td>\n",
       "      <td>...</td>\n",
       "      <td>-0.018307</td>\n",
       "      <td>0.277838</td>\n",
       "      <td>-0.110474</td>\n",
       "      <td>0.066928</td>\n",
       "      <td>0.128539</td>\n",
       "      <td>-0.189115</td>\n",
       "      <td>0.133558</td>\n",
       "      <td>-0.021053</td>\n",
       "      <td>149.62</td>\n",
       "      <td>0</td>\n",
       "    </tr>\n",
       "    <tr>\n",
       "      <th>1</th>\n",
       "      <td>0.0</td>\n",
       "      <td>1.191857</td>\n",
       "      <td>0.266151</td>\n",
       "      <td>0.166480</td>\n",
       "      <td>0.448154</td>\n",
       "      <td>0.060018</td>\n",
       "      <td>-0.082361</td>\n",
       "      <td>-0.078803</td>\n",
       "      <td>0.085102</td>\n",
       "      <td>-0.255425</td>\n",
       "      <td>...</td>\n",
       "      <td>-0.225775</td>\n",
       "      <td>-0.638672</td>\n",
       "      <td>0.101288</td>\n",
       "      <td>-0.339846</td>\n",
       "      <td>0.167170</td>\n",
       "      <td>0.125895</td>\n",
       "      <td>-0.008983</td>\n",
       "      <td>0.014724</td>\n",
       "      <td>2.69</td>\n",
       "      <td>0</td>\n",
       "    </tr>\n",
       "    <tr>\n",
       "      <th>2</th>\n",
       "      <td>1.0</td>\n",
       "      <td>-1.358354</td>\n",
       "      <td>-1.340163</td>\n",
       "      <td>1.773209</td>\n",
       "      <td>0.379780</td>\n",
       "      <td>-0.503198</td>\n",
       "      <td>1.800499</td>\n",
       "      <td>0.791461</td>\n",
       "      <td>0.247676</td>\n",
       "      <td>-1.514654</td>\n",
       "      <td>...</td>\n",
       "      <td>0.247998</td>\n",
       "      <td>0.771679</td>\n",
       "      <td>0.909412</td>\n",
       "      <td>-0.689281</td>\n",
       "      <td>-0.327642</td>\n",
       "      <td>-0.139097</td>\n",
       "      <td>-0.055353</td>\n",
       "      <td>-0.059752</td>\n",
       "      <td>378.66</td>\n",
       "      <td>0</td>\n",
       "    </tr>\n",
       "    <tr>\n",
       "      <th>3</th>\n",
       "      <td>1.0</td>\n",
       "      <td>-0.966272</td>\n",
       "      <td>-0.185226</td>\n",
       "      <td>1.792993</td>\n",
       "      <td>-0.863291</td>\n",
       "      <td>-0.010309</td>\n",
       "      <td>1.247203</td>\n",
       "      <td>0.237609</td>\n",
       "      <td>0.377436</td>\n",
       "      <td>-1.387024</td>\n",
       "      <td>...</td>\n",
       "      <td>-0.108300</td>\n",
       "      <td>0.005274</td>\n",
       "      <td>-0.190321</td>\n",
       "      <td>-1.175575</td>\n",
       "      <td>0.647376</td>\n",
       "      <td>-0.221929</td>\n",
       "      <td>0.062723</td>\n",
       "      <td>0.061458</td>\n",
       "      <td>123.50</td>\n",
       "      <td>0</td>\n",
       "    </tr>\n",
       "    <tr>\n",
       "      <th>4</th>\n",
       "      <td>2.0</td>\n",
       "      <td>-1.158233</td>\n",
       "      <td>0.877737</td>\n",
       "      <td>1.548718</td>\n",
       "      <td>0.403034</td>\n",
       "      <td>-0.407193</td>\n",
       "      <td>0.095921</td>\n",
       "      <td>0.592941</td>\n",
       "      <td>-0.270533</td>\n",
       "      <td>0.817739</td>\n",
       "      <td>...</td>\n",
       "      <td>-0.009431</td>\n",
       "      <td>0.798278</td>\n",
       "      <td>-0.137458</td>\n",
       "      <td>0.141267</td>\n",
       "      <td>-0.206010</td>\n",
       "      <td>0.502292</td>\n",
       "      <td>0.219422</td>\n",
       "      <td>0.215153</td>\n",
       "      <td>69.99</td>\n",
       "      <td>0</td>\n",
       "    </tr>\n",
       "  </tbody>\n",
       "</table>\n",
       "<p>5 rows × 31 columns</p>\n",
       "</div>"
      ],
      "text/plain": [
       "   Time        V1        V2        V3        V4        V5        V6        V7  \\\n",
       "0   0.0 -1.359807 -0.072781  2.536347  1.378155 -0.338321  0.462388  0.239599   \n",
       "1   0.0  1.191857  0.266151  0.166480  0.448154  0.060018 -0.082361 -0.078803   \n",
       "2   1.0 -1.358354 -1.340163  1.773209  0.379780 -0.503198  1.800499  0.791461   \n",
       "3   1.0 -0.966272 -0.185226  1.792993 -0.863291 -0.010309  1.247203  0.237609   \n",
       "4   2.0 -1.158233  0.877737  1.548718  0.403034 -0.407193  0.095921  0.592941   \n",
       "\n",
       "         V8        V9  ...       V21       V22       V23       V24       V25  \\\n",
       "0  0.098698  0.363787  ... -0.018307  0.277838 -0.110474  0.066928  0.128539   \n",
       "1  0.085102 -0.255425  ... -0.225775 -0.638672  0.101288 -0.339846  0.167170   \n",
       "2  0.247676 -1.514654  ...  0.247998  0.771679  0.909412 -0.689281 -0.327642   \n",
       "3  0.377436 -1.387024  ... -0.108300  0.005274 -0.190321 -1.175575  0.647376   \n",
       "4 -0.270533  0.817739  ... -0.009431  0.798278 -0.137458  0.141267 -0.206010   \n",
       "\n",
       "        V26       V27       V28  Amount  Class  \n",
       "0 -0.189115  0.133558 -0.021053  149.62      0  \n",
       "1  0.125895 -0.008983  0.014724    2.69      0  \n",
       "2 -0.139097 -0.055353 -0.059752  378.66      0  \n",
       "3 -0.221929  0.062723  0.061458  123.50      0  \n",
       "4  0.502292  0.219422  0.215153   69.99      0  \n",
       "\n",
       "[5 rows x 31 columns]"
      ]
     },
     "execution_count": 4,
     "metadata": {},
     "output_type": "execute_result"
    }
   ],
   "source": [
    "df.head()"
   ]
  },
  {
   "cell_type": "code",
   "execution_count": 5,
   "id": "2171a0b1-4475-46ac-96b7-8fcb58e1de7d",
   "metadata": {},
   "outputs": [
    {
     "data": {
      "text/plain": [
       "1081"
      ]
     },
     "execution_count": 5,
     "metadata": {},
     "output_type": "execute_result"
    }
   ],
   "source": [
    "# Проверяем дата-сет на дублирование\n",
    "df.duplicated().sum()"
   ]
  },
  {
   "cell_type": "code",
   "execution_count": 6,
   "id": "83906adb-e17d-4286-bcbc-95bba8c00404",
   "metadata": {},
   "outputs": [],
   "source": [
    "# Удаляем дубликаты\n",
    "df = df.drop_duplicates()"
   ]
  },
  {
   "cell_type": "code",
   "execution_count": 7,
   "id": "244fe883-60a0-42c3-83bf-8150cd34981a",
   "metadata": {},
   "outputs": [
    {
     "data": {
      "text/plain": [
       "0"
      ]
     },
     "execution_count": 7,
     "metadata": {},
     "output_type": "execute_result"
    }
   ],
   "source": [
    "# Проверка\n",
    "df.duplicated().sum()"
   ]
  },
  {
   "cell_type": "code",
   "execution_count": 8,
   "id": "76313f41-db40-453e-9b68-6c0b95063be6",
   "metadata": {},
   "outputs": [
    {
     "data": {
      "text/plain": [
       "<Axes: >"
      ]
     },
     "execution_count": 8,
     "metadata": {},
     "output_type": "execute_result"
    },
    {
     "data": {
      "image/png": "[encoded data removed]",
      "text/plain": [
       "<Figure size 640x480 with 2 Axes>"
      ]
     },
     "metadata": {},
     "output_type": "display_data"
    }
   ],
   "source": [
    "# Корреляционная карта дата-сета\n",
    "sns.heatmap(df.corr())"
   ]
  },
  {
   "cell_type": "markdown",
   "id": "9a633d1f-55a9-40e3-bd17-777a332f4397",
   "metadata": {},
   "source": [
    "### Заметим, что зависимостей совсем не обнаружено"
   ]
  },
  {
   "cell_type": "code",
   "execution_count": 9,
   "id": "61934042-34e4-4af9-9c37-fc6ab31a6695",
   "metadata": {},
   "outputs": [
    {
     "data": {
      "text/plain": [
       "Time      0\n",
       "V1        0\n",
       "V2        0\n",
       "V3        0\n",
       "V4        0\n",
       "V5        0\n",
       "V6        0\n",
       "V7        0\n",
       "V8        0\n",
       "V9        0\n",
       "V10       0\n",
       "V11       0\n",
       "V12       0\n",
       "V13       0\n",
       "V14       0\n",
       "V15       0\n",
       "V16       0\n",
       "V17       0\n",
       "V18       0\n",
       "V19       0\n",
       "V20       0\n",
       "V21       0\n",
       "V22       0\n",
       "V23       0\n",
       "V24       0\n",
       "V25       0\n",
       "V26       0\n",
       "V27       0\n",
       "V28       0\n",
       "Amount    0\n",
       "Class     0\n",
       "dtype: int64"
      ]
     },
     "execution_count": 9,
     "metadata": {},
     "output_type": "execute_result"
    }
   ],
   "source": [
    "# Проверяем дата-сет на пустые значения\n",
    "df.isna().sum()"
   ]
  },
  {
   "cell_type": "markdown",
   "id": "fdac1d7f-8c17-4c6c-b57f-d8c8ffcc52da",
   "metadata": {},
   "source": [
    "### Пустых значений не обнаружено"
   ]
  },
  {
   "cell_type": "code",
   "execution_count": 10,
   "id": "c19579f3-4574-4328-bc66-99d39684d760",
   "metadata": {},
   "outputs": [
    {
     "data": {
      "text/plain": [
       "(283726, 31)"
      ]
     },
     "execution_count": 10,
     "metadata": {},
     "output_type": "execute_result"
    }
   ],
   "source": [
    "# Размерность дата-сета\n",
    "df.shape"
   ]
  },
  {
   "cell_type": "code",
   "execution_count": 11,
   "id": "6748a05f-beb0-4236-877e-b2ebd8bead67",
   "metadata": {},
   "outputs": [
    {
     "name": "stdout",
     "output_type": "stream",
     "text": [
      "<class 'pandas.core.frame.DataFrame'>\n",
      "Index: 283726 entries, 0 to 284806\n",
      "Data columns (total 31 columns):\n",
      " #   Column  Non-Null Count   Dtype  \n",
      "---  ------  --------------   -----  \n",
      " 0   Time    283726 non-null  float64\n",
      " 1   V1      283726 non-null  float64\n",
      " 2   V2      283726 non-null  float64\n",
      " 3   V3      283726 non-null  float64\n",
      " 4   V4      283726 non-null  float64\n",
      " 5   V5      283726 non-null  float64\n",
      " 6   V6      283726 non-null  float64\n",
      " 7   V7      283726 non-null  float64\n",
      " 8   V8      283726 non-null  float64\n",
      " 9   V9      283726 non-null  float64\n",
      " 10  V10     283726 non-null  float64\n",
      " 11  V11     283726 non-null  float64\n",
      " 12  V12     283726 non-null  float64\n",
      " 13  V13     283726 non-null  float64\n",
      " 14  V14     283726 non-null  float64\n",
      " 15  V15     283726 non-null  float64\n",
      " 16  V16     283726 non-null  float64\n",
      " 17  V17     283726 non-null  float64\n",
      " 18  V18     283726 non-null  float64\n",
      " 19  V19     283726 non-null  float64\n",
      " 20  V20     283726 non-null  float64\n",
      " 21  V21     283726 non-null  float64\n",
      " 22  V22     283726 non-null  float64\n",
      " 23  V23     283726 non-null  float64\n",
      " 24  V24     283726 non-null  float64\n",
      " 25  V25     283726 non-null  float64\n",
      " 26  V26     283726 non-null  float64\n",
      " 27  V27     283726 non-null  float64\n",
      " 28  V28     283726 non-null  float64\n",
      " 29  Amount  283726 non-null  float64\n",
      " 30  Class   283726 non-null  int64  \n",
      "dtypes: float64(30), int64(1)\n",
      "memory usage: 69.3 MB\n"
     ]
    }
   ],
   "source": [
    "df.info()"
   ]
  },
  {
   "cell_type": "code",
   "execution_count": 12,
   "id": "92ba76f2",
   "metadata": {},
   "outputs": [],
   "source": [
    "columns = ['V1', 'V2', 'V3', 'V4', 'V5', 'V6', 'V7' ,'V8', 'V9', 'V10', 'V11', 'V12', 'V13', 'V14', 'V15', 'V16', 'V17', 'V18', 'V19', 'V20', 'V21', 'V22', 'V23', 'V24', 'V25', 'V26', 'V27', 'V28']"
   ]
  },
  {
   "cell_type": "code",
   "execution_count": 13,
   "id": "883ffb8e",
   "metadata": {},
   "outputs": [],
   "source": [
    "# Преобразовываем все отрицательные значения в положительные\n",
    "df[columns] = df[columns].abs()"
   ]
  },
  {
   "cell_type": "code",
   "execution_count": 14,
   "id": "52c5786f",
   "metadata": {},
   "outputs": [
    {
     "data": {
      "text/html": [
       "<div>\n",
       "<style scoped>\n",
       "    .dataframe tbody tr th:only-of-type {\n",
       "        vertical-align: middle;\n",
       "    }\n",
       "\n",
       "    .dataframe tbody tr th {\n",
       "        vertical-align: top;\n",
       "    }\n",
       "\n",
       "    .dataframe thead th {\n",
       "        text-align: right;\n",
       "    }\n",
       "</style>\n",
       "<table border=\"1\" class=\"dataframe\">\n",
       "  <thead>\n",
       "    <tr style=\"text-align: right;\">\n",
       "      <th></th>\n",
       "      <th>Time</th>\n",
       "      <th>V1</th>\n",
       "      <th>V2</th>\n",
       "      <th>V3</th>\n",
       "      <th>V4</th>\n",
       "      <th>V5</th>\n",
       "      <th>V6</th>\n",
       "      <th>V7</th>\n",
       "      <th>V8</th>\n",
       "      <th>V9</th>\n",
       "      <th>...</th>\n",
       "      <th>V21</th>\n",
       "      <th>V22</th>\n",
       "      <th>V23</th>\n",
       "      <th>V24</th>\n",
       "      <th>V25</th>\n",
       "      <th>V26</th>\n",
       "      <th>V27</th>\n",
       "      <th>V28</th>\n",
       "      <th>Amount</th>\n",
       "      <th>Class</th>\n",
       "    </tr>\n",
       "  </thead>\n",
       "  <tbody>\n",
       "    <tr>\n",
       "      <th>0</th>\n",
       "      <td>0.0</td>\n",
       "      <td>1.359807</td>\n",
       "      <td>0.072781</td>\n",
       "      <td>2.536347</td>\n",
       "      <td>1.378155</td>\n",
       "      <td>0.338321</td>\n",
       "      <td>0.462388</td>\n",
       "      <td>0.239599</td>\n",
       "      <td>0.098698</td>\n",
       "      <td>0.363787</td>\n",
       "      <td>...</td>\n",
       "      <td>0.018307</td>\n",
       "      <td>0.277838</td>\n",
       "      <td>0.110474</td>\n",
       "      <td>0.066928</td>\n",
       "      <td>0.128539</td>\n",
       "      <td>0.189115</td>\n",
       "      <td>0.133558</td>\n",
       "      <td>0.021053</td>\n",
       "      <td>149.62</td>\n",
       "      <td>0</td>\n",
       "    </tr>\n",
       "    <tr>\n",
       "      <th>1</th>\n",
       "      <td>0.0</td>\n",
       "      <td>1.191857</td>\n",
       "      <td>0.266151</td>\n",
       "      <td>0.166480</td>\n",
       "      <td>0.448154</td>\n",
       "      <td>0.060018</td>\n",
       "      <td>0.082361</td>\n",
       "      <td>0.078803</td>\n",
       "      <td>0.085102</td>\n",
       "      <td>0.255425</td>\n",
       "      <td>...</td>\n",
       "      <td>0.225775</td>\n",
       "      <td>0.638672</td>\n",
       "      <td>0.101288</td>\n",
       "      <td>0.339846</td>\n",
       "      <td>0.167170</td>\n",
       "      <td>0.125895</td>\n",
       "      <td>0.008983</td>\n",
       "      <td>0.014724</td>\n",
       "      <td>2.69</td>\n",
       "      <td>0</td>\n",
       "    </tr>\n",
       "    <tr>\n",
       "      <th>2</th>\n",
       "      <td>1.0</td>\n",
       "      <td>1.358354</td>\n",
       "      <td>1.340163</td>\n",
       "      <td>1.773209</td>\n",
       "      <td>0.379780</td>\n",
       "      <td>0.503198</td>\n",
       "      <td>1.800499</td>\n",
       "      <td>0.791461</td>\n",
       "      <td>0.247676</td>\n",
       "      <td>1.514654</td>\n",
       "      <td>...</td>\n",
       "      <td>0.247998</td>\n",
       "      <td>0.771679</td>\n",
       "      <td>0.909412</td>\n",
       "      <td>0.689281</td>\n",
       "      <td>0.327642</td>\n",
       "      <td>0.139097</td>\n",
       "      <td>0.055353</td>\n",
       "      <td>0.059752</td>\n",
       "      <td>378.66</td>\n",
       "      <td>0</td>\n",
       "    </tr>\n",
       "    <tr>\n",
       "      <th>3</th>\n",
       "      <td>1.0</td>\n",
       "      <td>0.966272</td>\n",
       "      <td>0.185226</td>\n",
       "      <td>1.792993</td>\n",
       "      <td>0.863291</td>\n",
       "      <td>0.010309</td>\n",
       "      <td>1.247203</td>\n",
       "      <td>0.237609</td>\n",
       "      <td>0.377436</td>\n",
       "      <td>1.387024</td>\n",
       "      <td>...</td>\n",
       "      <td>0.108300</td>\n",
       "      <td>0.005274</td>\n",
       "      <td>0.190321</td>\n",
       "      <td>1.175575</td>\n",
       "      <td>0.647376</td>\n",
       "      <td>0.221929</td>\n",
       "      <td>0.062723</td>\n",
       "      <td>0.061458</td>\n",
       "      <td>123.50</td>\n",
       "      <td>0</td>\n",
       "    </tr>\n",
       "    <tr>\n",
       "      <th>4</th>\n",
       "      <td>2.0</td>\n",
       "      <td>1.158233</td>\n",
       "      <td>0.877737</td>\n",
       "      <td>1.548718</td>\n",
       "      <td>0.403034</td>\n",
       "      <td>0.407193</td>\n",
       "      <td>0.095921</td>\n",
       "      <td>0.592941</td>\n",
       "      <td>0.270533</td>\n",
       "      <td>0.817739</td>\n",
       "      <td>...</td>\n",
       "      <td>0.009431</td>\n",
       "      <td>0.798278</td>\n",
       "      <td>0.137458</td>\n",
       "      <td>0.141267</td>\n",
       "      <td>0.206010</td>\n",
       "      <td>0.502292</td>\n",
       "      <td>0.219422</td>\n",
       "      <td>0.215153</td>\n",
       "      <td>69.99</td>\n",
       "      <td>0</td>\n",
       "    </tr>\n",
       "    <tr>\n",
       "      <th>...</th>\n",
       "      <td>...</td>\n",
       "      <td>...</td>\n",
       "      <td>...</td>\n",
       "      <td>...</td>\n",
       "      <td>...</td>\n",
       "      <td>...</td>\n",
       "      <td>...</td>\n",
       "      <td>...</td>\n",
       "      <td>...</td>\n",
       "      <td>...</td>\n",
       "      <td>...</td>\n",
       "      <td>...</td>\n",
       "      <td>...</td>\n",
       "      <td>...</td>\n",
       "      <td>...</td>\n",
       "      <td>...</td>\n",
       "      <td>...</td>\n",
       "      <td>...</td>\n",
       "      <td>...</td>\n",
       "      <td>...</td>\n",
       "      <td>...</td>\n",
       "    </tr>\n",
       "    <tr>\n",
       "      <th>284802</th>\n",
       "      <td>172786.0</td>\n",
       "      <td>11.881118</td>\n",
       "      <td>10.071785</td>\n",
       "      <td>9.834783</td>\n",
       "      <td>2.066656</td>\n",
       "      <td>5.364473</td>\n",
       "      <td>2.606837</td>\n",
       "      <td>4.918215</td>\n",
       "      <td>7.305334</td>\n",
       "      <td>1.914428</td>\n",
       "      <td>...</td>\n",
       "      <td>0.213454</td>\n",
       "      <td>0.111864</td>\n",
       "      <td>1.014480</td>\n",
       "      <td>0.509348</td>\n",
       "      <td>1.436807</td>\n",
       "      <td>0.250034</td>\n",
       "      <td>0.943651</td>\n",
       "      <td>0.823731</td>\n",
       "      <td>0.77</td>\n",
       "      <td>0</td>\n",
       "    </tr>\n",
       "    <tr>\n",
       "      <th>284803</th>\n",
       "      <td>172787.0</td>\n",
       "      <td>0.732789</td>\n",
       "      <td>0.055080</td>\n",
       "      <td>2.035030</td>\n",
       "      <td>0.738589</td>\n",
       "      <td>0.868229</td>\n",
       "      <td>1.058415</td>\n",
       "      <td>0.024330</td>\n",
       "      <td>0.294869</td>\n",
       "      <td>0.584800</td>\n",
       "      <td>...</td>\n",
       "      <td>0.214205</td>\n",
       "      <td>0.924384</td>\n",
       "      <td>0.012463</td>\n",
       "      <td>1.016226</td>\n",
       "      <td>0.606624</td>\n",
       "      <td>0.395255</td>\n",
       "      <td>0.068472</td>\n",
       "      <td>0.053527</td>\n",
       "      <td>24.79</td>\n",
       "      <td>0</td>\n",
       "    </tr>\n",
       "    <tr>\n",
       "      <th>284804</th>\n",
       "      <td>172788.0</td>\n",
       "      <td>1.919565</td>\n",
       "      <td>0.301254</td>\n",
       "      <td>3.249640</td>\n",
       "      <td>0.557828</td>\n",
       "      <td>2.630515</td>\n",
       "      <td>3.031260</td>\n",
       "      <td>0.296827</td>\n",
       "      <td>0.708417</td>\n",
       "      <td>0.432454</td>\n",
       "      <td>...</td>\n",
       "      <td>0.232045</td>\n",
       "      <td>0.578229</td>\n",
       "      <td>0.037501</td>\n",
       "      <td>0.640134</td>\n",
       "      <td>0.265745</td>\n",
       "      <td>0.087371</td>\n",
       "      <td>0.004455</td>\n",
       "      <td>0.026561</td>\n",
       "      <td>67.88</td>\n",
       "      <td>0</td>\n",
       "    </tr>\n",
       "    <tr>\n",
       "      <th>284805</th>\n",
       "      <td>172788.0</td>\n",
       "      <td>0.240440</td>\n",
       "      <td>0.530483</td>\n",
       "      <td>0.702510</td>\n",
       "      <td>0.689799</td>\n",
       "      <td>0.377961</td>\n",
       "      <td>0.623708</td>\n",
       "      <td>0.686180</td>\n",
       "      <td>0.679145</td>\n",
       "      <td>0.392087</td>\n",
       "      <td>...</td>\n",
       "      <td>0.265245</td>\n",
       "      <td>0.800049</td>\n",
       "      <td>0.163298</td>\n",
       "      <td>0.123205</td>\n",
       "      <td>0.569159</td>\n",
       "      <td>0.546668</td>\n",
       "      <td>0.108821</td>\n",
       "      <td>0.104533</td>\n",
       "      <td>10.00</td>\n",
       "      <td>0</td>\n",
       "    </tr>\n",
       "    <tr>\n",
       "      <th>284806</th>\n",
       "      <td>172792.0</td>\n",
       "      <td>0.533413</td>\n",
       "      <td>0.189733</td>\n",
       "      <td>0.703337</td>\n",
       "      <td>0.506271</td>\n",
       "      <td>0.012546</td>\n",
       "      <td>0.649617</td>\n",
       "      <td>1.577006</td>\n",
       "      <td>0.414650</td>\n",
       "      <td>0.486180</td>\n",
       "      <td>...</td>\n",
       "      <td>0.261057</td>\n",
       "      <td>0.643078</td>\n",
       "      <td>0.376777</td>\n",
       "      <td>0.008797</td>\n",
       "      <td>0.473649</td>\n",
       "      <td>0.818267</td>\n",
       "      <td>0.002415</td>\n",
       "      <td>0.013649</td>\n",
       "      <td>217.00</td>\n",
       "      <td>0</td>\n",
       "    </tr>\n",
       "  </tbody>\n",
       "</table>\n",
       "<p>283726 rows × 31 columns</p>\n",
       "</div>"
      ],
      "text/plain": [
       "            Time         V1         V2        V3        V4        V5  \\\n",
       "0            0.0   1.359807   0.072781  2.536347  1.378155  0.338321   \n",
       "1            0.0   1.191857   0.266151  0.166480  0.448154  0.060018   \n",
       "2            1.0   1.358354   1.340163  1.773209  0.379780  0.503198   \n",
       "3            1.0   0.966272   0.185226  1.792993  0.863291  0.010309   \n",
       "4            2.0   1.158233   0.877737  1.548718  0.403034  0.407193   \n",
       "...          ...        ...        ...       ...       ...       ...   \n",
       "284802  172786.0  11.881118  10.071785  9.834783  2.066656  5.364473   \n",
       "284803  172787.0   0.732789   0.055080  2.035030  0.738589  0.868229   \n",
       "284804  172788.0   1.919565   0.301254  3.249640  0.557828  2.630515   \n",
       "284805  172788.0   0.240440   0.530483  0.702510  0.689799  0.377961   \n",
       "284806  172792.0   0.533413   0.189733  0.703337  0.506271  0.012546   \n",
       "\n",
       "              V6        V7        V8        V9  ...       V21       V22  \\\n",
       "0       0.462388  0.239599  0.098698  0.363787  ...  0.018307  0.277838   \n",
       "1       0.082361  0.078803  0.085102  0.255425  ...  0.225775  0.638672   \n",
       "2       1.800499  0.791461  0.247676  1.514654  ...  0.247998  0.771679   \n",
       "3       1.247203  0.237609  0.377436  1.387024  ...  0.108300  0.005274   \n",
       "4       0.095921  0.592941  0.270533  0.817739  ...  0.009431  0.798278   \n",
       "...          ...       ...       ...       ...  ...       ...       ...   \n",
       "284802  2.606837  4.918215  7.305334  1.914428  ...  0.213454  0.111864   \n",
       "284803  1.058415  0.024330  0.294869  0.584800  ...  0.214205  0.924384   \n",
       "284804  3.031260  0.296827  0.708417  0.432454  ...  0.232045  0.578229   \n",
       "284805  0.623708  0.686180  0.679145  0.392087  ...  0.265245  0.800049   \n",
       "284806  0.649617  1.577006  0.414650  0.486180  ...  0.261057  0.643078   \n",
       "\n",
       "             V23       V24       V25       V26       V27       V28  Amount  \\\n",
       "0       0.110474  0.066928  0.128539  0.189115  0.133558  0.021053  149.62   \n",
       "1       0.101288  0.339846  0.167170  0.125895  0.008983  0.014724    2.69   \n",
       "2       0.909412  0.689281  0.327642  0.139097  0.055353  0.059752  378.66   \n",
       "3       0.190321  1.175575  0.647376  0.221929  0.062723  0.061458  123.50   \n",
       "4       0.137458  0.141267  0.206010  0.502292  0.219422  0.215153   69.99   \n",
       "...          ...       ...       ...       ...       ...       ...     ...   \n",
       "284802  1.014480  0.509348  1.436807  0.250034  0.943651  0.823731    0.77   \n",
       "284803  0.012463  1.016226  0.606624  0.395255  0.068472  0.053527   24.79   \n",
       "284804  0.037501  0.640134  0.265745  0.087371  0.004455  0.026561   67.88   \n",
       "284805  0.163298  0.123205  0.569159  0.546668  0.108821  0.104533   10.00   \n",
       "284806  0.376777  0.008797  0.473649  0.818267  0.002415  0.013649  217.00   \n",
       "\n",
       "        Class  \n",
       "0           0  \n",
       "1           0  \n",
       "2           0  \n",
       "3           0  \n",
       "4           0  \n",
       "...       ...  \n",
       "284802      0  \n",
       "284803      0  \n",
       "284804      0  \n",
       "284805      0  \n",
       "284806      0  \n",
       "\n",
       "[283726 rows x 31 columns]"
      ]
     },
     "execution_count": 14,
     "metadata": {},
     "output_type": "execute_result"
    }
   ],
   "source": [
    "df"
   ]
  },
  {
   "cell_type": "code",
   "execution_count": 15,
   "id": "49f01735-287d-4c06-9a98-245fa8a5d812",
   "metadata": {},
   "outputs": [
    {
     "data": {
      "text/html": [
       "<div>\n",
       "<style scoped>\n",
       "    .dataframe tbody tr th:only-of-type {\n",
       "        vertical-align: middle;\n",
       "    }\n",
       "\n",
       "    .dataframe tbody tr th {\n",
       "        vertical-align: top;\n",
       "    }\n",
       "\n",
       "    .dataframe thead th {\n",
       "        text-align: right;\n",
       "    }\n",
       "</style>\n",
       "<table border=\"1\" class=\"dataframe\">\n",
       "  <thead>\n",
       "    <tr style=\"text-align: right;\">\n",
       "      <th></th>\n",
       "      <th>count</th>\n",
       "      <th>mean</th>\n",
       "      <th>std</th>\n",
       "      <th>min</th>\n",
       "      <th>25%</th>\n",
       "      <th>50%</th>\n",
       "      <th>75%</th>\n",
       "      <th>max</th>\n",
       "    </tr>\n",
       "  </thead>\n",
       "  <tbody>\n",
       "    <tr>\n",
       "      <th>Time</th>\n",
       "      <td>283726.0000</td>\n",
       "      <td>94811.0776</td>\n",
       "      <td>47481.0479</td>\n",
       "      <td>0.0000</td>\n",
       "      <td>54204.7500</td>\n",
       "      <td>84692.5000</td>\n",
       "      <td>139298.0000</td>\n",
       "      <td>172792.0000</td>\n",
       "    </tr>\n",
       "    <tr>\n",
       "      <th>V1</th>\n",
       "      <td>283726.0000</td>\n",
       "      <td>1.4071</td>\n",
       "      <td>1.3472</td>\n",
       "      <td>0.0000</td>\n",
       "      <td>0.7218</td>\n",
       "      <td>1.2033</td>\n",
       "      <td>1.9170</td>\n",
       "      <td>56.4075</td>\n",
       "    </tr>\n",
       "    <tr>\n",
       "      <th>V2</th>\n",
       "      <td>283726.0000</td>\n",
       "      <td>0.9713</td>\n",
       "      <td>1.3298</td>\n",
       "      <td>0.0000</td>\n",
       "      <td>0.2953</td>\n",
       "      <td>0.7073</td>\n",
       "      <td>1.1931</td>\n",
       "      <td>72.7157</td>\n",
       "    </tr>\n",
       "    <tr>\n",
       "      <th>V3</th>\n",
       "      <td>283726.0000</td>\n",
       "      <td>1.1319</td>\n",
       "      <td>0.9975</td>\n",
       "      <td>0.0000</td>\n",
       "      <td>0.4527</td>\n",
       "      <td>0.9736</td>\n",
       "      <td>1.5913</td>\n",
       "      <td>48.3256</td>\n",
       "    </tr>\n",
       "    <tr>\n",
       "      <th>V4</th>\n",
       "      <td>283726.0000</td>\n",
       "      <td>1.0593</td>\n",
       "      <td>0.9369</td>\n",
       "      <td>0.0000</td>\n",
       "      <td>0.4086</td>\n",
       "      <td>0.8023</td>\n",
       "      <td>1.4136</td>\n",
       "      <td>16.8753</td>\n",
       "    </tr>\n",
       "    <tr>\n",
       "      <th>V5</th>\n",
       "      <td>283726.0000</td>\n",
       "      <td>0.8956</td>\n",
       "      <td>1.0460</td>\n",
       "      <td>0.0000</td>\n",
       "      <td>0.3028</td>\n",
       "      <td>0.6538</td>\n",
       "      <td>1.1802</td>\n",
       "      <td>113.7433</td>\n",
       "    </tr>\n",
       "    <tr>\n",
       "      <th>V6</th>\n",
       "      <td>283726.0000</td>\n",
       "      <td>0.9087</td>\n",
       "      <td>0.9738</td>\n",
       "      <td>0.0000</td>\n",
       "      <td>0.3169</td>\n",
       "      <td>0.6573</td>\n",
       "      <td>1.1094</td>\n",
       "      <td>73.3016</td>\n",
       "    </tr>\n",
       "    <tr>\n",
       "      <th>V7</th>\n",
       "      <td>283726.0000</td>\n",
       "      <td>0.7359</td>\n",
       "      <td>0.9827</td>\n",
       "      <td>0.0000</td>\n",
       "      <td>0.2443</td>\n",
       "      <td>0.5618</td>\n",
       "      <td>0.9474</td>\n",
       "      <td>120.5895</td>\n",
       "    </tr>\n",
       "    <tr>\n",
       "      <th>V8</th>\n",
       "      <td>283726.0000</td>\n",
       "      <td>0.5026</td>\n",
       "      <td>1.0666</td>\n",
       "      <td>0.0000</td>\n",
       "      <td>0.1152</td>\n",
       "      <td>0.2553</td>\n",
       "      <td>0.5242</td>\n",
       "      <td>73.2167</td>\n",
       "    </tr>\n",
       "    <tr>\n",
       "      <th>V9</th>\n",
       "      <td>283726.0000</td>\n",
       "      <td>0.8137</td>\n",
       "      <td>0.7335</td>\n",
       "      <td>0.0000</td>\n",
       "      <td>0.2810</td>\n",
       "      <td>0.6216</td>\n",
       "      <td>1.1471</td>\n",
       "      <td>15.5950</td>\n",
       "    </tr>\n",
       "    <tr>\n",
       "      <th>V10</th>\n",
       "      <td>283726.0000</td>\n",
       "      <td>0.6926</td>\n",
       "      <td>0.8240</td>\n",
       "      <td>0.0000</td>\n",
       "      <td>0.2108</td>\n",
       "      <td>0.5073</td>\n",
       "      <td>0.9291</td>\n",
       "      <td>24.5883</td>\n",
       "    </tr>\n",
       "    <tr>\n",
       "      <th>V11</th>\n",
       "      <td>283726.0000</td>\n",
       "      <td>0.8303</td>\n",
       "      <td>0.5902</td>\n",
       "      <td>0.0000</td>\n",
       "      <td>0.3676</td>\n",
       "      <td>0.7513</td>\n",
       "      <td>1.1932</td>\n",
       "      <td>12.0189</td>\n",
       "    </tr>\n",
       "    <tr>\n",
       "      <th>V12</th>\n",
       "      <td>283726.0000</td>\n",
       "      <td>0.7042</td>\n",
       "      <td>0.7025</td>\n",
       "      <td>0.0000</td>\n",
       "      <td>0.2500</td>\n",
       "      <td>0.5355</td>\n",
       "      <td>0.9359</td>\n",
       "      <td>18.6837</td>\n",
       "    </tr>\n",
       "    <tr>\n",
       "      <th>V13</th>\n",
       "      <td>283726.0000</td>\n",
       "      <td>0.7847</td>\n",
       "      <td>0.6125</td>\n",
       "      <td>0.0000</td>\n",
       "      <td>0.2986</td>\n",
       "      <td>0.6555</td>\n",
       "      <td>1.1383</td>\n",
       "      <td>7.1269</td>\n",
       "    </tr>\n",
       "    <tr>\n",
       "      <th>V14</th>\n",
       "      <td>283726.0000</td>\n",
       "      <td>0.6470</td>\n",
       "      <td>0.6986</td>\n",
       "      <td>0.0000</td>\n",
       "      <td>0.2145</td>\n",
       "      <td>0.4620</td>\n",
       "      <td>0.8556</td>\n",
       "      <td>19.2143</td>\n",
       "    </tr>\n",
       "    <tr>\n",
       "      <th>V15</th>\n",
       "      <td>283726.0000</td>\n",
       "      <td>0.7270</td>\n",
       "      <td>0.5554</td>\n",
       "      <td>0.0000</td>\n",
       "      <td>0.2921</td>\n",
       "      <td>0.6167</td>\n",
       "      <td>1.0385</td>\n",
       "      <td>8.8777</td>\n",
       "    </tr>\n",
       "    <tr>\n",
       "      <th>V16</th>\n",
       "      <td>283726.0000</td>\n",
       "      <td>0.6472</td>\n",
       "      <td>0.5869</td>\n",
       "      <td>0.0000</td>\n",
       "      <td>0.2345</td>\n",
       "      <td>0.4983</td>\n",
       "      <td>0.8942</td>\n",
       "      <td>17.3151</td>\n",
       "    </tr>\n",
       "    <tr>\n",
       "      <th>V17</th>\n",
       "      <td>283726.0000</td>\n",
       "      <td>0.5626</td>\n",
       "      <td>0.6271</td>\n",
       "      <td>0.0000</td>\n",
       "      <td>0.2178</td>\n",
       "      <td>0.4469</td>\n",
       "      <td>0.7544</td>\n",
       "      <td>25.1628</td>\n",
       "    </tr>\n",
       "    <tr>\n",
       "      <th>V18</th>\n",
       "      <td>283726.0000</td>\n",
       "      <td>0.6357</td>\n",
       "      <td>0.5451</td>\n",
       "      <td>0.0000</td>\n",
       "      <td>0.2317</td>\n",
       "      <td>0.4996</td>\n",
       "      <td>0.8827</td>\n",
       "      <td>9.4987</td>\n",
       "    </tr>\n",
       "    <tr>\n",
       "      <th>V19</th>\n",
       "      <td>283726.0000</td>\n",
       "      <td>0.6053</td>\n",
       "      <td>0.5433</td>\n",
       "      <td>0.0000</td>\n",
       "      <td>0.2046</td>\n",
       "      <td>0.4574</td>\n",
       "      <td>0.8488</td>\n",
       "      <td>7.2135</td>\n",
       "    </tr>\n",
       "    <tr>\n",
       "      <th>V20</th>\n",
       "      <td>283726.0000</td>\n",
       "      <td>0.3412</td>\n",
       "      <td>0.6903</td>\n",
       "      <td>0.0000</td>\n",
       "      <td>0.0889</td>\n",
       "      <td>0.1839</td>\n",
       "      <td>0.3448</td>\n",
       "      <td>54.4977</td>\n",
       "    </tr>\n",
       "    <tr>\n",
       "      <th>V21</th>\n",
       "      <td>283726.0000</td>\n",
       "      <td>0.3181</td>\n",
       "      <td>0.6503</td>\n",
       "      <td>0.0000</td>\n",
       "      <td>0.1000</td>\n",
       "      <td>0.2089</td>\n",
       "      <td>0.3327</td>\n",
       "      <td>34.8304</td>\n",
       "    </tr>\n",
       "    <tr>\n",
       "      <th>V22</th>\n",
       "      <td>283726.0000</td>\n",
       "      <td>0.5840</td>\n",
       "      <td>0.4289</td>\n",
       "      <td>0.0000</td>\n",
       "      <td>0.2549</td>\n",
       "      <td>0.5362</td>\n",
       "      <td>0.8200</td>\n",
       "      <td>10.9331</td>\n",
       "    </tr>\n",
       "    <tr>\n",
       "      <th>V23</th>\n",
       "      <td>283726.0000</td>\n",
       "      <td>0.2618</td>\n",
       "      <td>0.5661</td>\n",
       "      <td>0.0000</td>\n",
       "      <td>0.0703</td>\n",
       "      <td>0.1551</td>\n",
       "      <td>0.2930</td>\n",
       "      <td>44.8077</td>\n",
       "    </tr>\n",
       "    <tr>\n",
       "      <th>V24</th>\n",
       "      <td>283726.0000</td>\n",
       "      <td>0.4684</td>\n",
       "      <td>0.3839</td>\n",
       "      <td>0.0000</td>\n",
       "      <td>0.1404</td>\n",
       "      <td>0.4028</td>\n",
       "      <td>0.6786</td>\n",
       "      <td>4.5845</td>\n",
       "    </tr>\n",
       "    <tr>\n",
       "      <th>V25</th>\n",
       "      <td>283726.0000</td>\n",
       "      <td>0.4033</td>\n",
       "      <td>0.3302</td>\n",
       "      <td>0.0000</td>\n",
       "      <td>0.1766</td>\n",
       "      <td>0.3342</td>\n",
       "      <td>0.5417</td>\n",
       "      <td>10.2954</td>\n",
       "    </tr>\n",
       "    <tr>\n",
       "      <th>V26</th>\n",
       "      <td>283726.0000</td>\n",
       "      <td>0.3764</td>\n",
       "      <td>0.3012</td>\n",
       "      <td>0.0000</td>\n",
       "      <td>0.1437</td>\n",
       "      <td>0.2989</td>\n",
       "      <td>0.5355</td>\n",
       "      <td>3.5173</td>\n",
       "    </tr>\n",
       "    <tr>\n",
       "      <th>V27</th>\n",
       "      <td>283726.0000</td>\n",
       "      <td>0.1798</td>\n",
       "      <td>0.3526</td>\n",
       "      <td>0.0000</td>\n",
       "      <td>0.0331</td>\n",
       "      <td>0.0779</td>\n",
       "      <td>0.2093</td>\n",
       "      <td>31.6122</td>\n",
       "    </tr>\n",
       "    <tr>\n",
       "      <th>V28</th>\n",
       "      <td>283726.0000</td>\n",
       "      <td>0.1286</td>\n",
       "      <td>0.3018</td>\n",
       "      <td>0.0000</td>\n",
       "      <td>0.0274</td>\n",
       "      <td>0.0610</td>\n",
       "      <td>0.1427</td>\n",
       "      <td>33.8478</td>\n",
       "    </tr>\n",
       "    <tr>\n",
       "      <th>Amount</th>\n",
       "      <td>283726.0000</td>\n",
       "      <td>88.4727</td>\n",
       "      <td>250.3994</td>\n",
       "      <td>0.0000</td>\n",
       "      <td>5.6000</td>\n",
       "      <td>22.0000</td>\n",
       "      <td>77.5100</td>\n",
       "      <td>25691.1600</td>\n",
       "    </tr>\n",
       "    <tr>\n",
       "      <th>Class</th>\n",
       "      <td>283726.0000</td>\n",
       "      <td>0.0017</td>\n",
       "      <td>0.0408</td>\n",
       "      <td>0.0000</td>\n",
       "      <td>0.0000</td>\n",
       "      <td>0.0000</td>\n",
       "      <td>0.0000</td>\n",
       "      <td>1.0000</td>\n",
       "    </tr>\n",
       "  </tbody>\n",
       "</table>\n",
       "</div>"
      ],
      "text/plain": [
       "             count       mean        std    min        25%        50%  \\\n",
       "Time   283726.0000 94811.0776 47481.0479 0.0000 54204.7500 84692.5000   \n",
       "V1     283726.0000     1.4071     1.3472 0.0000     0.7218     1.2033   \n",
       "V2     283726.0000     0.9713     1.3298 0.0000     0.2953     0.7073   \n",
       "V3     283726.0000     1.1319     0.9975 0.0000     0.4527     0.9736   \n",
       "V4     283726.0000     1.0593     0.9369 0.0000     0.4086     0.8023   \n",
       "V5     283726.0000     0.8956     1.0460 0.0000     0.3028     0.6538   \n",
       "V6     283726.0000     0.9087     0.9738 0.0000     0.3169     0.6573   \n",
       "V7     283726.0000     0.7359     0.9827 0.0000     0.2443     0.5618   \n",
       "V8     283726.0000     0.5026     1.0666 0.0000     0.1152     0.2553   \n",
       "V9     283726.0000     0.8137     0.7335 0.0000     0.2810     0.6216   \n",
       "V10    283726.0000     0.6926     0.8240 0.0000     0.2108     0.5073   \n",
       "V11    283726.0000     0.8303     0.5902 0.0000     0.3676     0.7513   \n",
       "V12    283726.0000     0.7042     0.7025 0.0000     0.2500     0.5355   \n",
       "V13    283726.0000     0.7847     0.6125 0.0000     0.2986     0.6555   \n",
       "V14    283726.0000     0.6470     0.6986 0.0000     0.2145     0.4620   \n",
       "V15    283726.0000     0.7270     0.5554 0.0000     0.2921     0.6167   \n",
       "V16    283726.0000     0.6472     0.5869 0.0000     0.2345     0.4983   \n",
       "V17    283726.0000     0.5626     0.6271 0.0000     0.2178     0.4469   \n",
       "V18    283726.0000     0.6357     0.5451 0.0000     0.2317     0.4996   \n",
       "V19    283726.0000     0.6053     0.5433 0.0000     0.2046     0.4574   \n",
       "V20    283726.0000     0.3412     0.6903 0.0000     0.0889     0.1839   \n",
       "V21    283726.0000     0.3181     0.6503 0.0000     0.1000     0.2089   \n",
       "V22    283726.0000     0.5840     0.4289 0.0000     0.2549     0.5362   \n",
       "V23    283726.0000     0.2618     0.5661 0.0000     0.0703     0.1551   \n",
       "V24    283726.0000     0.4684     0.3839 0.0000     0.1404     0.4028   \n",
       "V25    283726.0000     0.4033     0.3302 0.0000     0.1766     0.3342   \n",
       "V26    283726.0000     0.3764     0.3012 0.0000     0.1437     0.2989   \n",
       "V27    283726.0000     0.1798     0.3526 0.0000     0.0331     0.0779   \n",
       "V28    283726.0000     0.1286     0.3018 0.0000     0.0274     0.0610   \n",
       "Amount 283726.0000    88.4727   250.3994 0.0000     5.6000    22.0000   \n",
       "Class  283726.0000     0.0017     0.0408 0.0000     0.0000     0.0000   \n",
       "\n",
       "               75%         max  \n",
       "Time   139298.0000 172792.0000  \n",
       "V1          1.9170     56.4075  \n",
       "V2          1.1931     72.7157  \n",
       "V3          1.5913     48.3256  \n",
       "V4          1.4136     16.8753  \n",
       "V5          1.1802    113.7433  \n",
       "V6          1.1094     73.3016  \n",
       "V7          0.9474    120.5895  \n",
       "V8          0.5242     73.2167  \n",
       "V9          1.1471     15.5950  \n",
       "V10         0.9291     24.5883  \n",
       "V11         1.1932     12.0189  \n",
       "V12         0.9359     18.6837  \n",
       "V13         1.1383      7.1269  \n",
       "V14         0.8556     19.2143  \n",
       "V15         1.0385      8.8777  \n",
       "V16         0.8942     17.3151  \n",
       "V17         0.7544     25.1628  \n",
       "V18         0.8827      9.4987  \n",
       "V19         0.8488      7.2135  \n",
       "V20         0.3448     54.4977  \n",
       "V21         0.3327     34.8304  \n",
       "V22         0.8200     10.9331  \n",
       "V23         0.2930     44.8077  \n",
       "V24         0.6786      4.5845  \n",
       "V25         0.5417     10.2954  \n",
       "V26         0.5355      3.5173  \n",
       "V27         0.2093     31.6122  \n",
       "V28         0.1427     33.8478  \n",
       "Amount     77.5100  25691.1600  \n",
       "Class       0.0000      1.0000  "
      ]
     },
     "execution_count": 15,
     "metadata": {},
     "output_type": "execute_result"
    }
   ],
   "source": [
    "np.set_printoptions(suppress=True)\n",
    "pd.set_option('display.float_format', lambda x: '%0.4f' % x)\n",
    "df.describe().T"
   ]
  },
  {
   "cell_type": "markdown",
   "id": "d1ed38cc-42c8-44ea-b4f5-e94867713014",
   "metadata": {},
   "source": [
    "### Выбросов не наблюдается"
   ]
  },
  {
   "cell_type": "markdown",
   "id": "05de8e19-58f1-4251-815f-6ce676087fdb",
   "metadata": {},
   "source": [
    "## Заметим, что в столбце Class много одинаковых значений, проверим"
   ]
  },
  {
   "cell_type": "code",
   "execution_count": 16,
   "id": "c950cbe4-3994-4e86-abae-d488efca26e8",
   "metadata": {},
   "outputs": [
    {
     "data": {
      "text/plain": [
       "Class\n",
       "0    283253\n",
       "1       473\n",
       "Name: count, dtype: int64"
      ]
     },
     "execution_count": 16,
     "metadata": {},
     "output_type": "execute_result"
    }
   ],
   "source": [
    "df['Class'].value_counts()"
   ]
  },
  {
   "cell_type": "code",
   "execution_count": 17,
   "id": "b1037049-1cd7-4b97-a418-2d2a019ca007",
   "metadata": {},
   "outputs": [
    {
     "data": {
      "text/plain": [
       "<Axes: xlabel='Class', ylabel='count'>"
      ]
     },
     "execution_count": 17,
     "metadata": {},
     "output_type": "execute_result"
    },
    {
     "data": {
      "image/png": "[encoded data removed]",
      "text/plain": [
       "<Figure size 640x480 with 1 Axes>"
      ]
     },
     "metadata": {},
     "output_type": "display_data"
    }
   ],
   "source": [
    "# Визуализируем\n",
    "sns.countplot(data = df, x = 'Class')"
   ]
  },
  {
   "cell_type": "code",
   "execution_count": 18,
   "id": "1ac08eed-b75e-45c2-a8a1-aeeba7c273f5",
   "metadata": {},
   "outputs": [
    {
     "data": {
      "image/png": "[encoded data removed]",
      "text/plain": [
       "<Figure size 700x700 with 1 Axes>"
      ]
     },
     "metadata": {},
     "output_type": "display_data"
    }
   ],
   "source": [
    "palette = ['#00777F', '#5BABF5', '#AADEFE', '#EAAC9F', '#8AA0AF']\n",
    "status_counts = df.Class.value_counts()\n",
    "\n",
    "plt.figure(figsize=(7, 7))\n",
    "plt.pie(status_counts, labels=status_counts.index, autopct='%1.1f%%', \n",
    "        startangle=140, colors=palette, shadow=True)\n",
    "\n",
    "plt.title('Распределение целевой переменной')\n",
    "\n",
    "plt.tight_layout()\n",
    "plt.show()"
   ]
  },
  {
   "cell_type": "markdown",
   "id": "adcfe67d-0671-4a43-961b-655cb2f1a728",
   "metadata": {},
   "source": [
    "# 3. Обучение моделей"
   ]
  },
  {
   "cell_type": "code",
   "execution_count": 19,
   "id": "fa240526-8eaa-49ca-8d36-4672f7d741fb",
   "metadata": {},
   "outputs": [],
   "source": [
    "from sklearn.model_selection import train_test_split\n",
    "X_train, X_test, y_train, y_test = train_test_split(df.drop('Class', axis = 1), \n",
    "                                                      df['Class'], \n",
    "                                                      test_size=0.3, \n",
    "                                                      random_state=19)"
   ]
  },
  {
   "cell_type": "code",
   "execution_count": 20,
   "id": "e3b6a102-1eda-4969-a909-f21c34ea8ba3",
   "metadata": {},
   "outputs": [],
   "source": [
    "dct_main = {}"
   ]
  },
  {
   "cell_type": "markdown",
   "id": "fd4ea040-fdad-455e-af53-91929655eea2",
   "metadata": {},
   "source": [
    "## KNN"
   ]
  },
  {
   "cell_type": "code",
   "execution_count": 21,
   "id": "22fd0a1b-a1d4-4e11-a47d-9d24f4a0758c",
   "metadata": {},
   "outputs": [],
   "source": [
    "X_train = np.array(X_train)\n",
    "y_train = np.array(y_train)\n",
    "X_test = np.array(X_test)\n",
    "\n",
    "knn = KNeighborsClassifier(n_neighbors=3)\n",
    "knn.fit(X_train, y_train)\n",
    "y_pred = knn.predict(X_test)"
   ]
  },
  {
   "cell_type": "code",
   "execution_count": 22,
   "id": "7daac657-edb8-405b-9dc8-2dda7b507e6f",
   "metadata": {},
   "outputs": [
    {
     "name": "stdout",
     "output_type": "stream",
     "text": [
      "0.9982142437557273\n"
     ]
    }
   ],
   "source": [
    "accuracy_score(y_test, y_pred)\n",
    "res1 = accuracy_score(y_test, y_pred)\n",
    "dct_main['Kneighbors'] = res1\n",
    "print(res1)"
   ]
  },
  {
   "cell_type": "code",
   "execution_count": 23,
   "id": "82034f13-818c-4cfc-8612-488618237774",
   "metadata": {},
   "outputs": [
    {
     "name": "stdout",
     "output_type": "stream",
     "text": [
      "              precision    recall  f1-score   support\n",
      "\n",
      "           0       1.00      1.00      1.00     84963\n",
      "           1       0.80      0.03      0.05       155\n",
      "\n",
      "    accuracy                           1.00     85118\n",
      "   macro avg       0.90      0.51      0.52     85118\n",
      "weighted avg       1.00      1.00      1.00     85118\n",
      "\n"
     ]
    }
   ],
   "source": [
    "print(classification_report(y_test, y_pred))"
   ]
  },
  {
   "cell_type": "code",
   "execution_count": 24,
   "id": "80ff86c0",
   "metadata": {},
   "outputs": [
    {
     "data": {
      "image/png": "[encoded data removed]",
      "text/plain": [
       "<Figure size 640x480 with 1 Axes>"
      ]
     },
     "metadata": {},
     "output_type": "display_data"
    }
   ],
   "source": [
    "from sklearn.metrics import RocCurveDisplay\n",
    "knn_disp = RocCurveDisplay.from_estimator(knn, X_test, y_test)"
   ]
  },
  {
   "cell_type": "markdown",
   "id": "4dec0d76-6d9c-4af9-8628-81d9eef0f0e7",
   "metadata": {},
   "source": [
    "# GNB"
   ]
  },
  {
   "cell_type": "code",
   "execution_count": 25,
   "id": "d0dbcc2a-77f8-4872-975a-31bb5ecc47eb",
   "metadata": {},
   "outputs": [],
   "source": [
    "gnb = GaussianNB()\n",
    "\n",
    "gnb.fit(X_train, y_train)\n",
    "\n",
    "gnb_pred_test = gnb.predict(X_test)"
   ]
  },
  {
   "cell_type": "code",
   "execution_count": 26,
   "id": "2af898d0-869e-4ce4-9932-09415077306e",
   "metadata": {},
   "outputs": [
    {
     "name": "stdout",
     "output_type": "stream",
     "text": [
      "0.9919406001080853\n"
     ]
    }
   ],
   "source": [
    "accuracy_score(y_test, gnb_pred_test)\n",
    "res2 = accuracy_score(y_test, gnb_pred_test)\n",
    "dct_main['GaussianNB'] = res2\n",
    "print(res2)"
   ]
  },
  {
   "cell_type": "code",
   "execution_count": 27,
   "id": "f1b8b36c-9442-417a-9010-9198695c4a58",
   "metadata": {},
   "outputs": [
    {
     "name": "stdout",
     "output_type": "stream",
     "text": [
      "              precision    recall  f1-score   support\n",
      "\n",
      "           0       1.00      0.99      1.00     84963\n",
      "           1       0.13      0.57      0.21       155\n",
      "\n",
      "    accuracy                           0.99     85118\n",
      "   macro avg       0.56      0.78      0.60     85118\n",
      "weighted avg       1.00      0.99      0.99     85118\n",
      "\n"
     ]
    }
   ],
   "source": [
    "print(classification_report(y_test, gnb_pred_test))"
   ]
  },
  {
   "cell_type": "code",
   "execution_count": 28,
   "id": "cbe8407e",
   "metadata": {},
   "outputs": [
    {
     "data": {
      "image/png": "[encoded data removed]",
      "text/plain": [
       "<Figure size 640x480 with 1 Axes>"
      ]
     },
     "metadata": {},
     "output_type": "display_data"
    }
   ],
   "source": [
    "from sklearn.metrics import RocCurveDisplay\n",
    "gnb_disp = RocCurveDisplay.from_estimator(gnb, X_test, y_test)"
   ]
  },
  {
   "cell_type": "markdown",
   "id": "b8265a0d-3733-425d-8942-a14faa767b1c",
   "metadata": {},
   "source": [
    "# RandomForest"
   ]
  },
  {
   "cell_type": "code",
   "execution_count": 29,
   "id": "7313f0f3-3ecd-45bf-bae3-f1ba0da16f0e",
   "metadata": {},
   "outputs": [],
   "source": [
    "rfc = RandomForestClassifier()"
   ]
  },
  {
   "cell_type": "code",
   "execution_count": 30,
   "id": "804626b1-1a17-425c-8e53-667e4e5ff325",
   "metadata": {},
   "outputs": [
    {
     "data": {
      "text/html": [
       "<style>#sk-container-id-1 {color: black;}#sk-container-id-1 pre{padding: 0;}#sk-container-id-1 div.sk-toggleable {background-color: white;}#sk-container-id-1 label.sk-toggleable__label {cursor: pointer;display: block;width: 100%;margin-bottom: 0;padding: 0.3em;box-sizing: border-box;text-align: center;}#sk-container-id-1 label.sk-toggleable__label-arrow:before {content: \"▸\";float: left;margin-right: 0.25em;color: #696969;}#sk-container-id-1 label.sk-toggleable__label-arrow:hover:before {color: black;}#sk-container-id-1 div.sk-estimator:hover label.sk-toggleable__label-arrow:before {color: black;}#sk-container-id-1 div.sk-toggleable__content {max-height: 0;max-width: 0;overflow: hidden;text-align: left;background-color: #f0f8ff;}#sk-container-id-1 div.sk-toggleable__content pre {margin: 0.2em;color: black;border-radius: 0.25em;background-color: #f0f8ff;}#sk-container-id-1 input.sk-toggleable__control:checked~div.sk-toggleable__content {max-height: 200px;max-width: 100%;overflow: auto;}#sk-container-id-1 input.sk-toggleable__control:checked~label.sk-toggleable__label-arrow:before {content: \"▾\";}#sk-container-id-1 div.sk-estimator input.sk-toggleable__control:checked~label.sk-toggleable__label {background-color: #d4ebff;}#sk-container-id-1 div.sk-label input.sk-toggleable__control:checked~label.sk-toggleable__label {background-color: #d4ebff;}#sk-container-id-1 input.sk-hidden--visually {border: 0;clip: rect(1px 1px 1px 1px);clip: rect(1px, 1px, 1px, 1px);height: 1px;margin: -1px;overflow: hidden;padding: 0;position: absolute;width: 1px;}#sk-container-id-1 div.sk-estimator {font-family: monospace;background-color: #f0f8ff;border: 1px dotted black;border-radius: 0.25em;box-sizing: border-box;margin-bottom: 0.5em;}#sk-container-id-1 div.sk-estimator:hover {background-color: #d4ebff;}#sk-container-id-1 div.sk-parallel-item::after {content: \"\";width: 100%;border-bottom: 1px solid gray;flex-grow: 1;}#sk-container-id-1 div.sk-label:hover label.sk-toggleable__label {background-color: #d4ebff;}#sk-container-id-1 div.sk-serial::before {content: \"\";position: absolute;border-left: 1px solid gray;box-sizing: border-box;top: 0;bottom: 0;left: 50%;z-index: 0;}#sk-container-id-1 div.sk-serial {display: flex;flex-direction: column;align-items: center;background-color: white;padding-right: 0.2em;padding-left: 0.2em;position: relative;}#sk-container-id-1 div.sk-item {position: relative;z-index: 1;}#sk-container-id-1 div.sk-parallel {display: flex;align-items: stretch;justify-content: center;background-color: white;position: relative;}#sk-container-id-1 div.sk-item::before, #sk-container-id-1 div.sk-parallel-item::before {content: \"\";position: absolute;border-left: 1px solid gray;box-sizing: border-box;top: 0;bottom: 0;left: 50%;z-index: -1;}#sk-container-id-1 div.sk-parallel-item {display: flex;flex-direction: column;z-index: 1;position: relative;background-color: white;}#sk-container-id-1 div.sk-parallel-item:first-child::after {align-self: flex-end;width: 50%;}#sk-container-id-1 div.sk-parallel-item:last-child::after {align-self: flex-start;width: 50%;}#sk-container-id-1 div.sk-parallel-item:only-child::after {width: 0;}#sk-container-id-1 div.sk-dashed-wrapped {border: 1px dashed gray;margin: 0 0.4em 0.5em 0.4em;box-sizing: border-box;padding-bottom: 0.4em;background-color: white;}#sk-container-id-1 div.sk-label label {font-family: monospace;font-weight: bold;display: inline-block;line-height: 1.2em;}#sk-container-id-1 div.sk-label-container {text-align: center;}#sk-container-id-1 div.sk-container {/* jupyter's `normalize.less` sets `[hidden] { display: none; }` but bootstrap.min.css set `[hidden] { display: none !important; }` so we also need the `!important` here to be able to override the default hidden behavior on the sphinx rendered scikit-learn.org. See: https://github.com/scikit-learn/scikit-learn/issues/21755 */display: inline-block !important;position: relative;}#sk-container-id-1 div.sk-text-repr-fallback {display: none;}</style><div id=\"sk-container-id-1\" class=\"sk-top-container\"><div class=\"sk-text-repr-fallback\"><pre>RandomForestClassifier()</pre><b>In a Jupyter environment, please rerun this cell to show the HTML representation or trust the notebook. <br />On GitHub, the HTML representation is unable to render, please try loading this page with nbviewer.org.</b></div><div class=\"sk-container\" hidden><div class=\"sk-item\"><div class=\"sk-estimator sk-toggleable\"><input class=\"sk-toggleable__control sk-hidden--visually\" id=\"sk-estimator-id-1\" type=\"checkbox\" checked><label for=\"sk-estimator-id-1\" class=\"sk-toggleable__label sk-toggleable__label-arrow\">RandomForestClassifier</label><div class=\"sk-toggleable__content\"><pre>RandomForestClassifier()</pre></div></div></div></div></div>"
      ],
      "text/plain": [
       "RandomForestClassifier()"
      ]
     },
     "execution_count": 30,
     "metadata": {},
     "output_type": "execute_result"
    }
   ],
   "source": [
    "rfc.fit(X_train, y_train)"
   ]
  },
  {
   "cell_type": "code",
   "execution_count": 31,
   "id": "8b02a8e6-1608-4aeb-870e-222ac988e593",
   "metadata": {},
   "outputs": [],
   "source": [
    "rfc_pred_test = rfc.predict(X_test)"
   ]
  },
  {
   "cell_type": "code",
   "execution_count": 32,
   "id": "8d860bd5-524f-447a-baba-e82baf1a477d",
   "metadata": {},
   "outputs": [
    {
     "name": "stdout",
     "output_type": "stream",
     "text": [
      "0.9994360769754929\n"
     ]
    }
   ],
   "source": [
    "accuracy_score(y_test, rfc_pred_test)\n",
    "res3 = accuracy_score(y_test, rfc_pred_test)\n",
    "dct_main['RandomForest'] = res3\n",
    "print(res3)"
   ]
  },
  {
   "cell_type": "code",
   "execution_count": 33,
   "id": "31d54b65-45b2-4ddd-a3ea-568e793bc2f2",
   "metadata": {},
   "outputs": [
    {
     "name": "stdout",
     "output_type": "stream",
     "text": [
      "              precision    recall  f1-score   support\n",
      "\n",
      "           0       1.00      1.00      1.00     84963\n",
      "           1       0.97      0.72      0.82       155\n",
      "\n",
      "    accuracy                           1.00     85118\n",
      "   macro avg       0.98      0.86      0.91     85118\n",
      "weighted avg       1.00      1.00      1.00     85118\n",
      "\n"
     ]
    }
   ],
   "source": [
    "print(classification_report(y_test, rfc_pred_test))"
   ]
  },
  {
   "cell_type": "code",
   "execution_count": 34,
   "id": "c2fd54d1",
   "metadata": {},
   "outputs": [
    {
     "data": {
      "image/png": "[encoded data removed]",
      "text/plain": [
       "<Figure size 640x480 with 1 Axes>"
      ]
     },
     "metadata": {},
     "output_type": "display_data"
    }
   ],
   "source": [
    "rfc_disp = RocCurveDisplay.from_estimator(rfc, X_test, y_test)"
   ]
  },
  {
   "cell_type": "markdown",
   "id": "6801c4d6-ea3c-40b7-b236-51072a2c1a5f",
   "metadata": {},
   "source": [
    "# Logistic Regress"
   ]
  },
  {
   "cell_type": "code",
   "execution_count": 35,
   "id": "b4cbdb7d-6099-4242-b968-c621806118f3",
   "metadata": {},
   "outputs": [],
   "source": [
    "sc = StandardScaler()\n",
    "X_train = sc.fit_transform(X_train)\n",
    "X_test = sc.transform(X_test)\n",
    "\n",
    "lr = LogisticRegression(random_state = 42)\n",
    "\n",
    "lr.fit(X_train, y_train)\n",
    "\n",
    "lr_pred_test = lr.predict(X_test)"
   ]
  },
  {
   "cell_type": "code",
   "execution_count": 36,
   "id": "13979532-b8f8-498d-9668-e3c6cd90426b",
   "metadata": {},
   "outputs": [
    {
     "name": "stdout",
     "output_type": "stream",
     "text": [
      "0.9990248831034564\n"
     ]
    }
   ],
   "source": [
    "accuracy_score(y_test, lr_pred_test)\n",
    "res4 = accuracy_score(y_test, lr_pred_test)\n",
    "dct_main['LogisticRegression'] = res4\n",
    "print(res4)"
   ]
  },
  {
   "cell_type": "code",
   "execution_count": 37,
   "id": "01d2b1c9-2f4a-472f-91e6-108c30985247",
   "metadata": {},
   "outputs": [
    {
     "name": "stdout",
     "output_type": "stream",
     "text": [
      "              precision    recall  f1-score   support\n",
      "\n",
      "           0       1.00      1.00      1.00     84963\n",
      "           1       0.90      0.52      0.66       155\n",
      "\n",
      "    accuracy                           1.00     85118\n",
      "   macro avg       0.95      0.76      0.83     85118\n",
      "weighted avg       1.00      1.00      1.00     85118\n",
      "\n"
     ]
    }
   ],
   "source": [
    "print(classification_report(y_test, lr_pred_test))"
   ]
  },
  {
   "cell_type": "code",
   "execution_count": 38,
   "id": "7599ba56",
   "metadata": {},
   "outputs": [
    {
     "data": {
      "image/png": "[encoded data removed]",
      "text/plain": [
       "<Figure size 640x480 with 1 Axes>"
      ]
     },
     "metadata": {},
     "output_type": "display_data"
    }
   ],
   "source": [
    "lr_disp = RocCurveDisplay.from_estimator(lr, X_test, y_test)"
   ]
  },
  {
   "cell_type": "markdown",
   "id": "4669045a-44f5-44b4-8eec-372b3a9a8078",
   "metadata": {},
   "source": [
    "# По итогам изучения метрик результатов обучения всех четырех моделей, можно куонстатировать, что лучше всех обучилась модель Logistic Regress."
   ]
  },
  {
   "cell_type": "markdown",
   "id": "a6384ff0-345d-4ea7-8324-5cae3102c32f",
   "metadata": {},
   "source": [
    "## Далее будем работать с моделью Logistic Regress"
   ]
  },
  {
   "cell_type": "markdown",
   "id": "016d9028-5448-4566-845f-b925338a34d7",
   "metadata": {},
   "source": [
    "# 4. Визуальное сравнение результатов обучения моделей"
   ]
  },
  {
   "cell_type": "code",
   "execution_count": 39,
   "id": "5299108c-a90c-4260-8ffe-a9a30fba866b",
   "metadata": {},
   "outputs": [
    {
     "data": {
      "text/plain": [
       "[Text(0.5, 0, 'Models'),\n",
       " Text(0, 0.5, 'Accuracy'),\n",
       " Text(0.5, 1.0, 'Accuracy of ML Models')]"
      ]
     },
     "execution_count": 39,
     "metadata": {},
     "output_type": "execute_result"
    },
    {
     "data": {
      "image/png": "[encoded data removed]",
      "text/plain": [
       "<Figure size 640x480 with 1 Axes>"
      ]
     },
     "metadata": {},
     "output_type": "display_data"
    }
   ],
   "source": [
    "df3 = pd.DataFrame(dct_main.items())\n",
    "ax = sns.barplot(x=0, y=1, data=df3)\n",
    "ax.set(xlabel = 'Models', ylabel='Accuracy', title='Accuracy of ML Models')"
   ]
  },
  {
   "cell_type": "code",
   "execution_count": 40,
   "id": "f03fa431-3776-4960-b7bf-9d45713116de",
   "metadata": {},
   "outputs": [
    {
     "data": {
      "text/html": [
       "<div>\n",
       "<style scoped>\n",
       "    .dataframe tbody tr th:only-of-type {\n",
       "        vertical-align: middle;\n",
       "    }\n",
       "\n",
       "    .dataframe tbody tr th {\n",
       "        vertical-align: top;\n",
       "    }\n",
       "\n",
       "    .dataframe thead th {\n",
       "        text-align: right;\n",
       "    }\n",
       "</style>\n",
       "<table border=\"1\" class=\"dataframe\">\n",
       "  <thead>\n",
       "    <tr style=\"text-align: right;\">\n",
       "      <th></th>\n",
       "      <th>Classifier</th>\n",
       "      <th>Accuracy</th>\n",
       "    </tr>\n",
       "  </thead>\n",
       "  <tbody>\n",
       "    <tr>\n",
       "      <th>0</th>\n",
       "      <td>Kneighbors</td>\n",
       "      <td>0.9982</td>\n",
       "    </tr>\n",
       "    <tr>\n",
       "      <th>1</th>\n",
       "      <td>GaussianNB</td>\n",
       "      <td>0.9919</td>\n",
       "    </tr>\n",
       "    <tr>\n",
       "      <th>2</th>\n",
       "      <td>RandomForest</td>\n",
       "      <td>0.9994</td>\n",
       "    </tr>\n",
       "    <tr>\n",
       "      <th>3</th>\n",
       "      <td>LogisticRegression</td>\n",
       "      <td>0.9990</td>\n",
       "    </tr>\n",
       "  </tbody>\n",
       "</table>\n",
       "</div>"
      ],
      "text/plain": [
       "           Classifier  Accuracy\n",
       "0          Kneighbors    0.9982\n",
       "1          GaussianNB    0.9919\n",
       "2        RandomForest    0.9994\n",
       "3  LogisticRegression    0.9990"
      ]
     },
     "execution_count": 40,
     "metadata": {},
     "output_type": "execute_result"
    }
   ],
   "source": [
    "log_cols = [\"Classifier\", \"Accuracy\"]\n",
    "log = pd.DataFrame(columns=log_cols)\n",
    "log['Classifier'] = dct_main.keys()\n",
    "log['Accuracy'] = dct_main.values()\n",
    "log"
   ]
  },
  {
   "cell_type": "markdown",
   "id": "356392cd-62e5-4478-99a4-68055962cd50",
   "metadata": {},
   "source": [
    "# Настройка гиперпараметров"
   ]
  },
  {
   "cell_type": "code",
   "execution_count": 41,
   "id": "bea7a961-0538-40e1-abc0-2349b63e597d",
   "metadata": {},
   "outputs": [
    {
     "name": "stdout",
     "output_type": "stream",
     "text": [
      "Лучший параметр:  10\n",
      "CPU times: total: 27.8 s\n",
      "Wall time: 28.2 s\n"
     ]
    }
   ],
   "source": [
    "%%time\n",
    "# Hyperparameter tuning\n",
    "param_grid = {\n",
    "    'C': [0.001, 0.01, 0.1, 1, 10, 100]     \n",
    "}\n",
    "\n",
    "logistic = LogisticRegression()\n",
    "\n",
    "grid_search = GridSearchCV(estimator=logistic, param_grid=param_grid, cv=5)\n",
    "\n",
    "grid_search.fit(X_train, y_train)\n",
    "\n",
    "print(\"Лучший параметр: \", grid_search.best_params_['C'])"
   ]
  },
  {
   "cell_type": "markdown",
   "id": "2de76fcf-37f8-435b-963e-a2febd714768",
   "metadata": {},
   "source": [
    "## Обучим новую модель, используя параметр 1 для LogisticRegress"
   ]
  },
  {
   "cell_type": "code",
   "execution_count": 42,
   "id": "0e5ae89d-5b35-4668-b0c2-ed62d4137403",
   "metadata": {},
   "outputs": [],
   "source": [
    "sc = StandardScaler()\n",
    "X_train = sc.fit_transform(X_train)\n",
    "X_test = sc.transform(X_test)\n",
    "\n",
    "lr = LogisticRegression(random_state = 1)\n",
    "\n",
    "lr.fit(X_train, y_train)\n",
    "\n",
    "lr_pred_test = lr.predict(X_test)"
   ]
  },
  {
   "cell_type": "code",
   "execution_count": 43,
   "id": "5a53cd80-b382-458a-8e17-7bdcae374106",
   "metadata": {},
   "outputs": [
    {
     "name": "stdout",
     "output_type": "stream",
     "text": [
      "0.9990248831034564\n"
     ]
    }
   ],
   "source": [
    "accuracy_score(y_test, lr_pred_test)\n",
    "res4 = accuracy_score(y_test, lr_pred_test)\n",
    "print(res4)"
   ]
  },
  {
   "cell_type": "code",
   "execution_count": 44,
   "id": "b0e5eab4-ad7f-41ca-bbd4-9317a050907c",
   "metadata": {},
   "outputs": [
    {
     "name": "stdout",
     "output_type": "stream",
     "text": [
      "              precision    recall  f1-score   support\n",
      "\n",
      "           0       1.00      1.00      1.00     84963\n",
      "           1       0.90      0.52      0.66       155\n",
      "\n",
      "    accuracy                           1.00     85118\n",
      "   macro avg       0.95      0.76      0.83     85118\n",
      "weighted avg       1.00      1.00      1.00     85118\n",
      "\n"
     ]
    }
   ],
   "source": [
    "print(classification_report(y_test, lr_pred_test))"
   ]
  },
  {
   "cell_type": "markdown",
   "id": "9b8c015a-8f18-4642-a466-af8c7504f521",
   "metadata": {},
   "source": [
    "## Сравнивая старую и новую метрику, можно констатировать, что она совершенно не изменилась"
   ]
  },
  {
   "cell_type": "markdown",
   "id": "d9844f46-dc45-40f1-b246-b9392900108c",
   "metadata": {},
   "source": [
    "# Вывод\n",
    "### В ходе анализа датасета, были удалены дублирующиеся строки датасета, пустых значений и выбросов обнаружено не было.\n",
    "### Обучили четыре модели KNN, LR, RF и GNB.\n",
    "\n",
    "### Лучше всех в результате обучения себя показала модель LogisticRegress.\n",
    "### Настроив гиперпараметры, было замечено, что метрики не изменились."
   ]
  }
 ],
 "metadata": {
  "kernelspec": {
   "display_name": "Python 3 (ipykernel)",
   "language": "python",
   "name": "python3"
  },
  "language_info": {
   "codemirror_mode": {
    "name": "ipython",
    "version": 3
   },
   "file_extension": ".py",
   "mimetype": "text/x-python",
   "name": "python",
   "nbconvert_exporter": "python",
   "pygments_lexer": "ipython3",
   "version": "3.11.5"
  }
 },
 "nbformat": 4,
 "nbformat_minor": 5
}
